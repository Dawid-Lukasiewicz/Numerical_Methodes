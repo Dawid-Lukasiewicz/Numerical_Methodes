{
 "cells": [
  {
   "cell_type": "code",
   "execution_count": null,
   "metadata": {},
   "outputs": [],
   "source": [
    "import sys\n",
    "sys.path.append(\"../\")\n",
    "from IPython.display import display, Math\n",
    "import os\n",
    "import scipy as sci\n",
    "import numpy as np\n",
    "import matrix_handler as mx\n",
    "\n",
    "from solvers_lab6 import simplex1\n",
    "from solvers_lab6 import simplex2\n",
    "from solvers_lab6 import simplex3\n",
    "from solvers_lab6 import simplex4\n",
    "\n",
    "import matplotlib.pyplot as plt\n",
    "\n",
    "zadania = \"zadania\""
   ]
  },
  {
   "cell_type": "code",
   "execution_count": null,
   "metadata": {},
   "outputs": [],
   "source": [
    "A = np.array([[1, 2, 1, 0, 0], [4, 2, 0, 1, 0], [-1, 1, 0, 0, 1]])\n",
    "b = np.array([4, 12, 1])\n",
    "c = np.array([1, 1, 0, 0, 0])\n",
    "\n",
    "x, obj = simplex1(c, A, b)\n",
    "\n",
    "mx.print_matrix(x)\n",
    "print(obj)"
   ]
  },
  {
   "cell_type": "code",
   "execution_count": null,
   "metadata": {},
   "outputs": [],
   "source": [
    "x, obj = simplex2(c, A, b)\n",
    "\n",
    "mx.print_matrix(x)\n",
    "print(obj)"
   ]
  },
  {
   "cell_type": "code",
   "execution_count": null,
   "metadata": {},
   "outputs": [],
   "source": [
    "A = np.array([[1, 2, 1, 0, 0], [4, 2, 0, 1, 0], [-1, 1, 0, 0, 1]])\n",
    "b = np.array([4, 12, 1])\n",
    "c = np.array([1, 1, 0, 0, 0])\n",
    "\n",
    "print(\"A =\")\n",
    "mx.print_matrix(A)\n",
    "print(\"b =\")\n",
    "mx.print_matrix(b)\n",
    "print(\"c =\")\n",
    "mx.print_matrix(c)\n",
    "\n",
    "\n",
    "x3, obj3 = simplex4(c, A, b)\n",
    "\n",
    "mx.print_matrix(x)\n",
    "print(obj)"
   ]
  }
 ],
 "metadata": {
  "kernelspec": {
   "display_name": "numerical_venv",
   "language": "python",
   "name": "python3"
  },
  "language_info": {
   "codemirror_mode": {
    "name": "ipython",
    "version": 3
   },
   "file_extension": ".py",
   "mimetype": "text/x-python",
   "name": "python",
   "nbconvert_exporter": "python",
   "pygments_lexer": "ipython3",
   "version": "3.8.10"
  },
  "orig_nbformat": 4
 },
 "nbformat": 4,
 "nbformat_minor": 2
}
