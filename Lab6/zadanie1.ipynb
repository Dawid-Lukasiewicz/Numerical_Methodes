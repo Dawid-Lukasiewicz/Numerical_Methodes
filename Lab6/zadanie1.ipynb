{
 "cells": [
  {
   "cell_type": "code",
   "execution_count": 1,
   "metadata": {},
   "outputs": [],
   "source": [
    "import sys\n",
    "sys.path.append(\"../\")\n",
    "from IPython.display import display, Math\n",
    "import os\n",
    "\n",
    "import scipy as sci\n",
    "from scipy.optimize import linprog\n",
    "\n",
    "import numpy as np\n",
    "import matrix_handler as mx\n",
    "\n",
    "import matplotlib.pyplot as plt\n",
    "\n",
    "zadania = \"zadania\""
   ]
  },
  {
   "cell_type": "code",
   "execution_count": 24,
   "metadata": {},
   "outputs": [
    {
     "name": "stdout",
     "output_type": "stream",
     "text": [
      "[1.66666667 2.66666667]\n"
     ]
    }
   ],
   "source": [
    "# A = np.array([[1, 2, 1, 0, 0], [4, 2, 0, 1, 0], [-1, 1, 0, 0, 1]])\n",
    "# c = np.array([1, 1, 0, 0, 0])\n",
    "A = np.array([[1, 2], [4, 2], [-1, 1]])\n",
    "b = np.array([4, 12, 1])\n",
    "# To maximalize the function we need to multiply both side with -1\n",
    "A = A*-1\n",
    "b = b*-1 #\n",
    "c = np.array([1, 1])\n",
    "\n",
    "x0_bound = [0.0, None]\n",
    "x1_bound = [0.0, None]\n",
    "x_bounds = [x0_bound, x1_bound]\n",
    "res = linprog(c, A_ub=A, b_ub=b, bounds=x_bounds, method=\"highs\")\n",
    "# res = linprog(c, A, b, bounds=x_bounds, method=\"highs\")\n",
    "print(res)"
   ]
  },
  {
   "cell_type": "code",
   "execution_count": 25,
   "metadata": {},
   "outputs": [
    {
     "name": "stdout",
     "output_type": "stream",
     "text": [
      "        message: Optimization terminated successfully. (HiGHS Status 7: Optimal)\n",
      "        success: True\n",
      "         status: 0\n",
      "            fun: -9.5\n",
      "              x: [-3.500e+00 -2.000e+00]\n",
      "            nit: 0\n",
      "          lower:  residual: [       inf  0.000e+00]\n",
      "                 marginals: [ 0.000e+00  3.500e+00]\n",
      "          upper:  residual: [       inf        inf]\n",
      "                 marginals: [ 0.000e+00  0.000e+00]\n",
      "          eqlin:  residual: []\n",
      "                 marginals: []\n",
      "        ineqlin:  residual: [ 0.000e+00  1.250e+01]\n",
      "                 marginals: [-5.000e-01 -0.000e+00]\n",
      " mip_node_count: 0\n",
      " mip_dual_bound: 0.0\n",
      "        mip_gap: 0.0\n"
     ]
    }
   ],
   "source": [
    "A = np.array([[-2, 1], [1, 3]])\n",
    "b = np.array([5, 3])\n",
    "# To maximalize the function we need to multiply both side with -1\n",
    "c = np.array([1, 3])\n",
    "\n",
    "x0_bound = [None, None]\n",
    "x1_bound = [-2, None]\n",
    "x_bounds = [x0_bound, x1_bound]\n",
    "res = linprog(c, A_ub=A, b_ub=b, bounds=x_bounds, method=\"highs\")\n",
    "# res = linprog(c, A, b, bounds=x_bounds, method=\"highs\")\n",
    "print(res)"
   ]
  }
 ],
 "metadata": {
  "kernelspec": {
   "display_name": "numerical_venv",
   "language": "python",
   "name": "python3"
  },
  "language_info": {
   "codemirror_mode": {
    "name": "ipython",
    "version": 3
   },
   "file_extension": ".py",
   "mimetype": "text/x-python",
   "name": "python",
   "nbconvert_exporter": "python",
   "pygments_lexer": "ipython3",
   "version": "3.10.6"
  },
  "orig_nbformat": 4
 },
 "nbformat": 4,
 "nbformat_minor": 2
}
