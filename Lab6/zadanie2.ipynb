{
 "cells": [
  {
   "cell_type": "code",
   "execution_count": 1,
   "metadata": {},
   "outputs": [],
   "source": [
    "import sys\n",
    "sys.path.append(\"../\")\n",
    "from IPython.display import display, Math\n",
    "import os\n",
    "\n",
    "import scipy as sci\n",
    "from scipy.optimize import linprog\n",
    "\n",
    "import numpy as np\n",
    "import matrix_handler as mx\n",
    "\n",
    "import matplotlib.pyplot as plt\n",
    "\n",
    "zadania = \"zadania\""
   ]
  },
  {
   "cell_type": "code",
   "execution_count": 2,
   "metadata": {},
   "outputs": [
    {
     "data": {
      "text/latex": [
       "$\\displaystyle x =$"
      ],
      "text/plain": [
       "<IPython.core.display.Math object>"
      ]
     },
     "metadata": {},
     "output_type": "display_data"
    },
    {
     "data": {
      "text/latex": [
       "$\\displaystyle \\begin{bmatrix}1.5\\\\3.0\\\\\\end{bmatrix}$"
      ],
      "text/plain": [
       "<IPython.core.display.Math object>"
      ]
     },
     "metadata": {},
     "output_type": "display_data"
    },
    {
     "data": {
      "text/latex": [
       "$\\displaystyle F = 10.5$"
      ],
      "text/plain": [
       "<IPython.core.display.Math object>"
      ]
     },
     "metadata": {},
     "output_type": "display_data"
    }
   ],
   "source": [
    "A = np.array([[20, 10],[20, 30]])\n",
    "b = np.array([60, 120])\n",
    "# One should always pass inequalities in this way x1+x2<=l1\n",
    "# Otherwise swap the sign on both sides to get above standard inequality\n",
    "A = -1*A\n",
    "b = -1*b\n",
    "\n",
    "c = np.array([3, 2])\n",
    "\n",
    "x0_bound = [0.0, None]\n",
    "x1_bound = [0.0, None]\n",
    "x_bounds = [x0_bound, x1_bound]\n",
    "res = linprog(c, A_ub=A, b_ub=b, bounds=x_bounds, method=\"highs\")\n",
    "display(Math(\"x =\"))\n",
    "mx.print_matrix(res.x)\n",
    "display(Math(f\"F = {str(res.fun)}\"))"
   ]
  }
 ],
 "metadata": {
  "kernelspec": {
   "display_name": "venv_numerical",
   "language": "python",
   "name": "python3"
  },
  "language_info": {
   "codemirror_mode": {
    "name": "ipython",
    "version": 3
   },
   "file_extension": ".py",
   "mimetype": "text/x-python",
   "name": "python",
   "nbconvert_exporter": "python",
   "pygments_lexer": "ipython3",
   "version": "3.8.10"
  },
  "orig_nbformat": 4
 },
 "nbformat": 4,
 "nbformat_minor": 2
}
