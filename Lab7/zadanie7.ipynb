{
 "cells": [
  {
   "cell_type": "code",
   "execution_count": 1,
   "metadata": {},
   "outputs": [],
   "source": [
    "import sys\n",
    "sys.path.append(\"../\")\n",
    "from IPython.display import display, Math\n",
    "import os\n",
    "\n",
    "import functools\n",
    "\n",
    "import scipy as sci\n",
    "from scipy.optimize import minimize\n",
    "from scipy.linalg import hilbert\n",
    "from scipy.linalg import norm\n",
    "\n",
    "import numpy as np\n",
    "import matrix_handler as mx\n",
    "\n",
    "import matplotlib.pyplot as plt\n",
    "\n",
    "from solvers_lab7 import BFGS\n",
    "from solvers_lab7 import Fletcher_Reeves\n",
    "\n",
    "zadania = \"zadania\""
   ]
  },
  {
   "cell_type": "code",
   "execution_count": 2,
   "metadata": {},
   "outputs": [],
   "source": [
    "\"\"\"We shall minimize this function\"\"\"\n",
    "def function(x, A, b):\n",
    "    return norm(A@x - b)**2\n",
    "\n",
    "def gradient_function(x, A, b):\n",
    "    return 2 * A.T @ (A @ x - b)"
   ]
  },
  {
   "cell_type": "code",
   "execution_count": 14,
   "metadata": {},
   "outputs": [
    {
     "name": "stdout",
     "output_type": "stream",
     "text": [
      "Metoda quasi-Newtona (BFGS):\n",
      "iteration =  2499\n",
      "Optimized x values:\n"
     ]
    },
    {
     "data": {
      "text/latex": [
       "$\\displaystyle \\begin{bmatrix}-1.681502742462383\\\\1.453426654122135\\\\2.302114694660987\\\\2.5342624159209155\\\\2.548882638874694\\\\\\end{bmatrix}$"
      ],
      "text/plain": [
       "<IPython.core.display.Math object>"
      ]
     },
     "metadata": {},
     "output_type": "display_data"
    },
    {
     "name": "stdout",
     "output_type": "stream",
     "text": [
      "Optimized objective value: 0.0587591196392688\n",
      "\n",
      "Metoda CG (Conjugate Gradient):\n",
      "iteration =  2499\n",
      "Optimized x values:\n"
     ]
    },
    {
     "data": {
      "text/latex": [
       "$\\displaystyle \\begin{bmatrix}-1.3677130679104907\\\\21.299311998106333\\\\-49.84159279885488\\\\-13.818354592698363\\\\58.91233427430925\\\\\\end{bmatrix}$"
      ],
      "text/plain": [
       "<IPython.core.display.Math object>"
      ]
     },
     "metadata": {},
     "output_type": "display_data"
    },
    {
     "name": "stdout",
     "output_type": "stream",
     "text": [
      "Optimized objective value: 0.000957136769184297\n"
     ]
    }
   ],
   "source": [
    "N = 5\n",
    "A = hilbert(N)\n",
    "b = np.ones(N)\n",
    "\n",
    "x0 = np.zeros(N)\n",
    "\n",
    "part_function = functools.partial(function, A=A, b=b)\n",
    "part_gradient_function = functools.partial(gradient_function, A=A, b=b)\n",
    "\n",
    "# Method quasi-Newtona (BFGS)\n",
    "x_bfgs, i_bfgs = BFGS(part_function, x0, iter=2500)\n",
    "\n",
    "# Method Conjugate Gradient (Fletcher-Reeves)\n",
    "x_fr, i_fr = Fletcher_Reeves(part_function, part_gradient_function, x0, iter=2500)\n",
    "\n",
    "# Wyświetlenie wyników\n",
    "print(\"Metoda quasi-Newtona (BFGS):\")\n",
    "# print(\"iteration = \", i_bfgs)\n",
    "print(\"Optimized x values:\")\n",
    "mx.print_matrix(x_bfgs)\n",
    "print(\"Optimized objective value:\", function(x_bfgs, A, b))\n",
    "print()\n",
    "print(\"Metoda CG (Conjugate Gradient):\")\n",
    "# print(\"iteration = \", i_fr)\n",
    "print(\"Optimized x values:\")\n",
    "mx.print_matrix(x_fr)\n",
    "print(\"Optimized objective value:\", function(x_fr, A, b))"
   ]
  }
 ],
 "metadata": {
  "kernelspec": {
   "display_name": "venv_numerical",
   "language": "python",
   "name": "python3"
  },
  "language_info": {
   "codemirror_mode": {
    "name": "ipython",
    "version": 3
   },
   "file_extension": ".py",
   "mimetype": "text/x-python",
   "name": "python",
   "nbconvert_exporter": "python",
   "pygments_lexer": "ipython3",
   "version": "3.10.10"
  },
  "orig_nbformat": 4
 },
 "nbformat": 4,
 "nbformat_minor": 2
}
