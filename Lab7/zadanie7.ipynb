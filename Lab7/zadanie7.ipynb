{
 "cells": [
  {
   "cell_type": "code",
   "execution_count": null,
   "metadata": {},
   "outputs": [],
   "source": [
    "import sys\n",
    "sys.path.append(\"../\")\n",
    "from IPython.display import display, Math\n",
    "import os\n",
    "\n",
    "import functools\n",
    "\n",
    "import scipy as sci\n",
    "from scipy.optimize import minimize\n",
    "from scipy.linalg import hilbert\n",
    "from scipy.linalg import norm\n",
    "\n",
    "import numpy as np\n",
    "import matrix_handler as mx\n",
    "\n",
    "import matplotlib.pyplot as plt\n",
    "\n",
    "from solvers_lab5 import residual_error\n",
    "from solvers_lab7 import BFGS\n",
    "from solvers_lab7 import Fletcher_Reeves\n",
    "\n",
    "zadania = \"zadania\""
   ]
  },
  {
   "cell_type": "code",
   "execution_count": null,
   "metadata": {},
   "outputs": [],
   "source": [
    "\"\"\"We shall minimize this function\"\"\"\n",
    "def function(x, A, b):\n",
    "    return norm(A@x - b)**2\n",
    "\n",
    "def gradient_function(x, A, b):\n",
    "    return 2 * A.T @ (A @ x - b)"
   ]
  },
  {
   "cell_type": "code",
   "execution_count": null,
   "metadata": {},
   "outputs": [],
   "source": [
    "N = [5, 8, 12, 20]\n",
    "\n",
    "for n in N:\n",
    "    A = hilbert(n)\n",
    "    b = np.ones(n)\n",
    "\n",
    "    x0 = np.zeros(n)\n",
    "\n",
    "    part_function = functools.partial(function, A=A, b=b)\n",
    "    part_gradient_function = functools.partial(gradient_function, A=A, b=b)\n",
    "\n",
    "    # Method quasi-Newtona (BFGS)\n",
    "    x_bfgs = x0\n",
    "    x_bfgs, i_bfgs = BFGS(part_function, x_bfgs, iter=2500)\n",
    "\n",
    "    # Method Conjugate Gradient (Fletcher-Reeves)\n",
    "    x_fr = x0\n",
    "    x_fr, i_fr = Fletcher_Reeves(part_function, part_gradient_function, x0, iter=2500)\n",
    "\n",
    "    # Wyświetlenie wyników\n",
    "    print(\"=========================\\nN = \", n)\n",
    "    print(\"Metoda quasi-Newtona (BFGS):\")\n",
    "    print(\"Residual error = \", residual_error(A, b, x_bfgs))\n",
    "    print()\n",
    "    print(\"Metoda CG (Fletcher Reeves):\")\n",
    "    print(\"Residual error = \", residual_error(A, b, x_fr))\n",
    "    print(\"=========================\\n\")"
   ]
  }
 ],
 "metadata": {
  "kernelspec": {
   "display_name": "venv_numerical",
   "language": "python",
   "name": "python3"
  },
  "language_info": {
   "codemirror_mode": {
    "name": "ipython",
    "version": 3
   },
   "file_extension": ".py",
   "mimetype": "text/x-python",
   "name": "python",
   "nbconvert_exporter": "python",
   "pygments_lexer": "ipython3",
   "version": "3.10.10"
  },
  "orig_nbformat": 4
 },
 "nbformat": 4,
 "nbformat_minor": 2
}
