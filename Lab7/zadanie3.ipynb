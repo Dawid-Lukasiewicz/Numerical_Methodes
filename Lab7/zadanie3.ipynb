{
 "cells": [
  {
   "cell_type": "code",
   "execution_count": 1,
   "metadata": {},
   "outputs": [],
   "source": [
    "import sys\n",
    "sys.path.append(\"../\")\n",
    "from IPython.display import display, Math\n",
    "import os\n",
    "\n",
    "import scipy as sci\n",
    "from scipy.optimize import minimize\n",
    "\n",
    "import numpy as np\n",
    "import matrix_handler as mx\n",
    "\n",
    "import matplotlib.pyplot as plt\n",
    "\n",
    "from solvers_lab7 import BFGS\n",
    "from solvers_lab7 import Gradient_Descent\n",
    "\n",
    "zadania = \"zadania\""
   ]
  },
  {
   "cell_type": "code",
   "execution_count": 2,
   "metadata": {},
   "outputs": [],
   "source": [
    "\"\"\"\n",
    "f(x, y) = (x^2 + y - 11)^2 + (x + y^2 - 7)^2\n",
    "δf(x, y)/δx = 2*(-7 + x + y^2 + 2*x (-11 + x^2 + y))\n",
    "δf(x, y)/δy = 2*(-11 + x^2 + y + 2 y*(-7 + x + y^2))\n",
    "\"\"\"\n",
    "\n",
    "def function(x):\n",
    "    return (x[0]**2 + x[1] - 11)**2 + (x[0] + x[1]**2 - 7)**2\n",
    "\n",
    "def grad_functions(x):\n",
    "    return np.array([2*(2*x[0]*(x[0]**2+x[1]-11)+x[0]+x[1]**2-7), 2*(x[0]**2+2*x[1]*(x[0]+x[1]**2-7)+x[1]-11)])"
   ]
  },
  {
   "cell_type": "code",
   "execution_count": 3,
   "metadata": {},
   "outputs": [
    {
     "name": "stdout",
     "output_type": "stream",
     "text": [
      "[2.99999707 2.00002065]\n",
      "[3. 2.]\n"
     ]
    }
   ],
   "source": [
    "x0 = np.array([3.2, 2.1])\n",
    "\n",
    "x, _ = BFGS(function, x0)\n",
    "print(x)\n",
    "\n",
    "x, _ = Gradient_Descent(len(x0), grad_functions, x0, theta=0.01, iter=100)\n",
    "print(x)"
   ]
  },
  {
   "cell_type": "code",
   "execution_count": 3,
   "metadata": {},
   "outputs": [
    {
     "name": "stdout",
     "output_type": "stream",
     "text": [
      "Done  1\n",
      "Done  2\n",
      "Done  3\n",
      "Done  4\n",
      "Done  5\n",
      "Done  6\n",
      "Done  7\n",
      "Done  8\n",
      "Done  9\n",
      "Done  10\n",
      "Done  11\n",
      "Done  12\n",
      "Done  13\n",
      "Done  14\n",
      "Done  15\n",
      "Done  16\n",
      "Done  17\n",
      "Done  18\n",
      "Done  19\n",
      "Done  20\n",
      "Done  21\n",
      "Done  22\n",
      "Done  23\n",
      "Done  24\n",
      "Done  25\n",
      "Done  26\n",
      "Done  27\n",
      "Done  28\n",
      "Done  29\n",
      "-1.896551724137931\n",
      "-3.1332093600903312\n"
     ]
    }
   ],
   "source": [
    "max_steps = 10\n",
    "grid0 = np.zeros([max_steps, max_steps]) \n",
    "gridx = np.zeros([max_steps, max_steps]) \n",
    "\n",
    "for i in np.arange(1, max_steps+1, step=1):\n",
    "    grid0[i] = -5 +10*((i-1)/29)\n",
    "    for j in np.arange(1, max_steps+1, step=1):\n",
    "        grid0[i][j] = -5 +10*((j-1)/29)\n",
    "        x0 = np.array([grid0[i][0], grid0[i][j]])\n",
    "        x, _ = BFGS(function, x0, tolerance=1e-5, theta=100)\n",
    "        gridx[i][0] = x[0]\n",
    "        gridx[i][j] = x[1]\n",
    "    print(\"Done \", i)\n",
    "\n",
    "print(grid0[4][10])\n",
    "print(gridx[4][10])\n",
    "\n",
    "\n",
    "\n"
   ]
  }
 ],
 "metadata": {
  "kernelspec": {
   "display_name": "venv_numerical",
   "language": "python",
   "name": "python3"
  },
  "language_info": {
   "codemirror_mode": {
    "name": "ipython",
    "version": 3
   },
   "file_extension": ".py",
   "mimetype": "text/x-python",
   "name": "python",
   "nbconvert_exporter": "python",
   "pygments_lexer": "ipython3",
   "version": "3.10.10"
  },
  "orig_nbformat": 4
 },
 "nbformat": 4,
 "nbformat_minor": 2
}
