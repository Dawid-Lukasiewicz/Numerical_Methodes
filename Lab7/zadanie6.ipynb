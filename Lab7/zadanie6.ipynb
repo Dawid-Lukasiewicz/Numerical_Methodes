{
 "cells": [
  {
   "cell_type": "code",
   "execution_count": null,
   "metadata": {},
   "outputs": [],
   "source": [
    "import sys\n",
    "sys.path.append(\"../\")\n",
    "from IPython.display import display, Math\n",
    "import os\n",
    "\n",
    "import scipy as sci\n",
    "from scipy.optimize import minimize\n",
    "\n",
    "import numpy as np\n",
    "import matrix_handler as mx\n",
    "\n",
    "import matplotlib.pyplot as plt\n",
    "\n",
    "from solvers_lab7 import Fletcher_Reeves\n",
    "from solvers_lab7 import Polak_Ribiere\n",
    "\n",
    "zadania = \"zadania\""
   ]
  },
  {
   "cell_type": "code",
   "execution_count": null,
   "metadata": {},
   "outputs": [],
   "source": [
    "\"\"\"\n",
    "Rosenbrock function\n",
    "f(x, y) = 100(y - x^2)^2 + (1-x)^2\n",
    "δf(x, y)/δx = 2*(200*x^3 + x - 1 - 200*x*y)\n",
    "δf(x, y)/δy = 200*(y - x^2)\n",
    "\"\"\"\n",
    "\n",
    "def function(x):\n",
    "    return 100*(x[1] - x[0]**2)**2 + (1-x[0])**2\n",
    "\n",
    "def gradient_function(x):\n",
    "    return np.array([\n",
    "        -400 * x[0] * (x[1] - x[0]**2) - 2 * (1 - x[0]),\n",
    "        200 * (x[1] - x[0]**2)\n",
    "    ])"
   ]
  },
  {
   "cell_type": "code",
   "execution_count": null,
   "metadata": {},
   "outputs": [],
   "source": [
    "x0 = np.array([-1.2, 1])\n",
    "x, i = Fletcher_Reeves(function, gradient_function, x0)\n",
    "print(x)"
   ]
  },
  {
   "cell_type": "code",
   "execution_count": null,
   "metadata": {},
   "outputs": [],
   "source": [
    "x0 = np.array([-1.2, 1])\n",
    "x, i = Polak_Ribiere(function, gradient_function, x0)\n",
    "print(x)"
   ]
  },
  {
   "cell_type": "code",
   "execution_count": null,
   "metadata": {},
   "outputs": [],
   "source": [
    "# Generate grid for isolines\n",
    "x = np.linspace(-2, 2, 500)\n",
    "y = np.linspace(-1, 3, 500)\n",
    "X, Y = np.meshgrid(x, y)\n",
    "Z = function([X, Y])\n",
    "\n",
    "plt.contour(X, Y, Z, levels=50, cmap='jet')\n",
    "plt.colorbar()\n",
    "plt.xlabel('x')\n",
    "plt.ylabel('y')\n",
    "plt.title(\"Isolines of Rosenbrock's function\")\n",
    "plt.show()"
   ]
  }
 ],
 "metadata": {
  "kernelspec": {
   "display_name": "venv_numerical",
   "language": "python",
   "name": "python3"
  },
  "language_info": {
   "codemirror_mode": {
    "name": "ipython",
    "version": 3
   },
   "file_extension": ".py",
   "mimetype": "text/x-python",
   "name": "python",
   "nbconvert_exporter": "python",
   "pygments_lexer": "ipython3",
   "version": "3.10.10"
  },
  "orig_nbformat": 4
 },
 "nbformat": 4,
 "nbformat_minor": 2
}
