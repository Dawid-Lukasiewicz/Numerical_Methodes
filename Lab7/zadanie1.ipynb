{
 "cells": [
  {
   "cell_type": "code",
   "execution_count": null,
   "metadata": {},
   "outputs": [],
   "source": [
    "import sys\n",
    "sys.path.append(\"../\")\n",
    "from IPython.display import display, Math\n",
    "import os\n",
    "\n",
    "import scipy as sci\n",
    "from scipy.optimize import minimize\n",
    "\n",
    "import numpy as np\n",
    "import matrix_handler as mx\n",
    "\n",
    "import matplotlib.pyplot as plt\n",
    "\n",
    "zadania = \"zadania\""
   ]
  },
  {
   "attachments": {},
   "cell_type": "markdown",
   "metadata": {},
   "source": [
    "W tym zadaniu mamy sprawdzić czy punkt $x = [1,1]^T$ jest ekstremem funkcji Rosenbrocka:\n",
    "$$f(x) = 100(x_2 - x_1^2)^2 + (1-x_1)^2$$"
   ]
  },
  {
   "cell_type": "code",
   "execution_count": null,
   "metadata": {},
   "outputs": [],
   "source": [
    "def function(x):\n",
    "    return 100*(x[1] - x[0]**2)**2 + (1-x[0])**2\n",
    "\n",
    "x0  = np.array([1, 1])\n",
    "\n",
    "res = minimize(function, x0, method=\"Nelder-Mead\")\n",
    "display(Math(\"x =\"))\n",
    "mx.print_matrix(res.x)\n",
    "display(Math(\"f(x) =\"))\n",
    "print(res.fun)\n",
    "\n"
   ]
  },
  {
   "attachments": {},
   "cell_type": "markdown",
   "metadata": {},
   "source": [
    "Jak widzimy wskazany punkt jest ekstremem funkcji Rosenbrocka."
   ]
  },
  {
   "attachments": {},
   "cell_type": "markdown",
   "metadata": {},
   "source": [
    "Wykres konturowy funkcji Rosenbrecka:"
   ]
  },
  {
   "cell_type": "code",
   "execution_count": null,
   "metadata": {},
   "outputs": [],
   "source": [
    "x1 = np.arange(-.5, 1.5, 0.01)\n",
    "x2 = np.arange(-1, 1.5, 0.01)\n",
    "\n",
    "X, Y = np.meshgrid(x1, x2)\n",
    "Z = 100*(X - Y**2)**2 + (1-X)**2\n",
    "\n",
    "fig = plt.figure(figsize=(6,5))\n",
    "left, bottom, width, height = 0.1, 0.1, 0.8, 0.8\n",
    "ax = fig.add_axes([left, bottom, width, height]) \n",
    "\n",
    "cs = plt.contour(X, Y, Z, 200)\n",
    "plt.colorbar(cs)\n",
    "\n",
    "plt.plot(1, 1, marker='o',  markersize=10, color='r')\n",
    "\n",
    "ax.set_title('Contour Plot')\n",
    "ax.set_xlabel('x1')\n",
    "ax.set_ylabel('x2')\n",
    "plt.show()"
   ]
  }
 ],
 "metadata": {
  "kernelspec": {
   "display_name": "venv_numerical",
   "language": "python",
   "name": "python3"
  },
  "language_info": {
   "codemirror_mode": {
    "name": "ipython",
    "version": 3
   },
   "file_extension": ".py",
   "mimetype": "text/x-python",
   "name": "python",
   "nbconvert_exporter": "python",
   "pygments_lexer": "ipython3",
   "version": "3.10.10"
  },
  "orig_nbformat": 4
 },
 "nbformat": 4,
 "nbformat_minor": 2
}
