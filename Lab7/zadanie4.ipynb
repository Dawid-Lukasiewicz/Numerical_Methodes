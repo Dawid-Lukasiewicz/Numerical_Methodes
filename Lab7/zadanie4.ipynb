{
 "cells": [
  {
   "cell_type": "code",
   "execution_count": 1,
   "metadata": {},
   "outputs": [],
   "source": [
    "import sys\n",
    "sys.path.append(\"../\")\n",
    "from IPython.display import display, Math\n",
    "import os\n",
    "\n",
    "import scipy as sci\n",
    "from scipy.optimize import minimize\n",
    "\n",
    "import numpy as np\n",
    "import matrix_handler as mx\n",
    "\n",
    "import matplotlib.pyplot as plt\n",
    "\n",
    "from solvers_lab7 import BFGS\n",
    "from solvers_lab7 import Gradient_Descent\n",
    "\n",
    "zadania = \"zadania\""
   ]
  },
  {
   "cell_type": "code",
   "execution_count": 2,
   "metadata": {},
   "outputs": [],
   "source": [
    "\"\"\"\n",
    "Hamenblau Function\n",
    "f(x, y) = (x^2 + y - 11)^2 + (x + y^2 - 7)^2\n",
    "δf(x, y)/δx = 2*(-7 + x + y^2 + 2*x (-11 + x^2 + y))\n",
    "δf(x, y)/δy = 2*(-11 + x^2 + y + 2 y*(-7 + x + y^2))\n",
    "\"\"\"\n",
    "\n",
    "min1 = np.array([3, 2])\n",
    "min2 = np.array([-3.78, -3.28])\n",
    "min3 = np.array([-2.81, 3.13])\n",
    "min4 = np.array([3.58, -1.85])\n",
    "\n",
    "def function(x):\n",
    "    return (x[0]**2 + x[1] - 11)**2 + (x[0] + x[1]**2 - 7)**2\n",
    "\n",
    "def grad_functions(x):\n",
    "    return np.array([2*(2*x[0]*(x[0]**2+x[1]-11)+x[0]+x[1]**2-7), 2*(x[0]**2+2*x[1]*(x[0]+x[1]**2-7)+x[1]-11)])"
   ]
  },
  {
   "cell_type": "code",
   "execution_count": null,
   "metadata": {},
   "outputs": [],
   "source": [
    "x0 = np.array([3.2, 2.1])\n",
    "\n",
    "x, _ = BFGS(function, x0)\n",
    "print(x)\n",
    "\n",
    "x, _ = Gradient_Descent(grad_functions, x0, theta=0.01, iter=100)\n",
    "print(x)"
   ]
  },
  {
   "cell_type": "code",
   "execution_count": null,
   "metadata": {},
   "outputs": [],
   "source": [
    "max_steps = 30\n",
    "tol = 0.5\n",
    "grid0 = []\n",
    "gridx = []\n",
    "\n",
    "plt.figure(1)\n",
    "fig, ax = plt.subplots()\n",
    "ax.scatter([], [], color=\"r\", label=\"f(3,2)\")\n",
    "ax.scatter([], [], color=\"g\", label=\"f(-3.78, -3.28)\")\n",
    "ax.scatter([], [], color=\"y\", label=\"f(-2.81, 3.13)\")\n",
    "ax.scatter([], [], color=\"b\", label=\"f(3.58, -1.85)\")\n",
    "plt.xlabel(\"x\")\n",
    "plt.ylabel(\"y\")\n",
    "ax.set(xlim=(-7, 6), ylim=(-7, 6))\n",
    "\n",
    "for i in np.arange(1, max_steps, step=1):\n",
    "    gridI = -5 +10*((i-1)/(max_steps-1))\n",
    "    for j in np.arange(1, max_steps, step=1):\n",
    "        gridJ = -5 +10*((j-1)/(max_steps-1))\n",
    "        x0 = np.array([gridI, gridJ])\n",
    "        x, _ = BFGS(function, x0, tolerance=1e-3, iter=500)\n",
    "        if np.fabs(np.linalg.norm(x-min1)) <= tol:\n",
    "            color = \"r\"\n",
    "        elif np.fabs(np.linalg.norm(x-min2)) <= tol:\n",
    "            color = \"g\"\n",
    "        elif np.fabs(np.linalg.norm(x-min3)) <= tol:\n",
    "            color = \"y\"\n",
    "        elif np.fabs(np.linalg.norm(x-min4)) <= tol:\n",
    "            color = \"b\"\n",
    "        else:\n",
    "            color = \"k\"\n",
    "        ax.scatter(gridI, gridJ, s=25, c=color)\n",
    "    print(\"Done \", i)\n",
    "\n",
    "ax.legend()\n"
   ]
  },
  {
   "cell_type": "code",
   "execution_count": 4,
   "metadata": {},
   "outputs": [
    {
     "name": "stderr",
     "output_type": "stream",
     "text": [
      "/tmp/ipykernel_10790/393323587.py:14: RuntimeWarning: overflow encountered in scalar power\n",
      "  return (x[0]**2 + x[1] - 11)**2 + (x[0] + x[1]**2 - 7)**2\n",
      "/tmp/ipykernel_10790/393323587.py:14: RuntimeWarning: invalid value encountered in scalar add\n",
      "  return (x[0]**2 + x[1] - 11)**2 + (x[0] + x[1]**2 - 7)**2\n"
     ]
    },
    {
     "name": "stdout",
     "output_type": "stream",
     "text": [
      "Done  1\n",
      "Done  2\n",
      "Done  3\n",
      "Done  4\n",
      "Done  5\n",
      "Done  6\n",
      "Done  7\n",
      "Done  8\n",
      "Done  9\n",
      "Done  10\n",
      "Done  11\n",
      "Done  12\n",
      "Done  13\n",
      "Done  14\n",
      "Done  15\n",
      "Done  16\n",
      "Done  17\n",
      "Done  18\n",
      "Done  19\n",
      "Done  20\n",
      "Done  21\n",
      "Done  22\n",
      "Done  23\n",
      "Done  24\n",
      "Done  25\n",
      "Done  26\n",
      "Done  27\n",
      "Done  28\n",
      "Done  29\n"
     ]
    },
    {
     "data": {
      "text/plain": [
       "<matplotlib.legend.Legend at 0x7f411f5a99c0>"
      ]
     },
     "execution_count": 4,
     "metadata": {},
     "output_type": "execute_result"
    },
    {
     "data": {
      "text/plain": [
       "<Figure size 640x480 with 0 Axes>"
      ]
     },
     "metadata": {},
     "output_type": "display_data"
    },
    {
     "data": {
      "image/png": "[encoded data removed]",
      "text/plain": [
       "<Figure size 640x480 with 1 Axes>"
      ]
     },
     "metadata": {},
     "output_type": "display_data"
    }
   ],
   "source": [
    "max_steps = 30\n",
    "tol = 0.5\n",
    "grid0 = []\n",
    "gridx = []\n",
    "\n",
    "plt.figure(1)\n",
    "fig, ax = plt.subplots()\n",
    "ax.scatter([], [], color=\"r\", label=\"f(3,2)\")\n",
    "ax.scatter([], [], color=\"g\", label=\"f(-3.78, -3.28)\")\n",
    "ax.scatter([], [], color=\"y\", label=\"f(-2.81, 3.13)\")\n",
    "ax.scatter([], [], color=\"b\", label=\"f(3.58, -1.85)\")\n",
    "plt.xlabel(\"x\")\n",
    "plt.ylabel(\"y\")\n",
    "ax.set(xlim=(-7, 6), ylim=(-7, 6))\n",
    "\n",
    "for i in np.arange(1, max_steps, step=1):\n",
    "    gridI = -5 +10*((i-1)/(max_steps-1))\n",
    "    for j in np.arange(1, max_steps, step=1):\n",
    "        gridJ = -5 +10*((j-1)/(max_steps-1))\n",
    "        x0 = np.array([gridI, gridJ])\n",
    "        x, _ = Gradient_Descent(function, x0, tolerance=1e-3, iter=500, theta=0.001)\n",
    "        if np.fabs(np.linalg.norm(x-min1)) <= tol:\n",
    "            color = \"r\"\n",
    "        elif np.fabs(np.linalg.norm(x-min2)) <= tol:\n",
    "            color = \"g\"\n",
    "        elif np.fabs(np.linalg.norm(x-min3)) <= tol:\n",
    "            color = \"y\"\n",
    "        elif np.fabs(np.linalg.norm(x-min4)) <= tol:\n",
    "            color = \"b\"\n",
    "        else:\n",
    "            color = \"k\"\n",
    "        ax.scatter(gridI, gridJ, s=25, c=color)\n",
    "    print(\"Done \", i)\n",
    "\n",
    "ax.legend()\n"
   ]
  }
 ],
 "metadata": {
  "kernelspec": {
   "display_name": "venv_numerical",
   "language": "python",
   "name": "python3"
  },
  "language_info": {
   "codemirror_mode": {
    "name": "ipython",
    "version": 3
   },
   "file_extension": ".py",
   "mimetype": "text/x-python",
   "name": "python",
   "nbconvert_exporter": "python",
   "pygments_lexer": "ipython3",
   "version": "3.10.10"
  },
  "orig_nbformat": 4
 },
 "nbformat": 4,
 "nbformat_minor": 2
}
