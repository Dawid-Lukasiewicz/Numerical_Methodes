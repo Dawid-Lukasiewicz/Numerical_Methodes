{
 "cells": [
  {
   "cell_type": "code",
   "execution_count": null,
   "metadata": {},
   "outputs": [],
   "source": [
    "import sys\n",
    "sys.path.append(\"../\")\n",
    "from IPython.display import display, Math\n",
    "import os\n",
    "\n",
    "import scipy as sci\n",
    "from scipy.optimize import minimize\n",
    "\n",
    "import numpy as np\n",
    "import matrix_handler as mx\n",
    "\n",
    "import matplotlib.pyplot as plt\n",
    "\n",
    "zadania = \"zadania\""
   ]
  },
  {
   "attachments": {},
   "cell_type": "markdown",
   "metadata": {},
   "source": [
    "Wykres konturowy dla funkcji:\n",
    "$$f(x) = 2x_1^2 - x_1x_2 + \\frac{1}{2}x_2^2 - 3x_1 + 3.5$$"
   ]
  },
  {
   "cell_type": "code",
   "execution_count": null,
   "metadata": {},
   "outputs": [],
   "source": [
    "x1 = np.arange(-3, 3.5, 0.1)\n",
    "x2 = np.arange(-3, 3.5, 0.1)\n",
    "\n",
    "X, Y = np.meshgrid(x1, x2)\n",
    "Z = 2*X**2 - X*Y + (Y**2)*0.5 - 3*X + 3.5\n",
    "\n",
    "fig = plt.figure(figsize=(6,5))\n",
    "left, bottom, width, height = 0.1, 0.1, 0.8, 0.8\n",
    "ax = fig.add_axes([left, bottom, width, height]) \n",
    "\n",
    "cs = plt.contour(X, Y, Z, 50)\n",
    "plt.colorbar(cs)\n",
    "\n",
    "plt.plot(1, 1, marker='o',  markersize=10, color='r', label=\"minimum\")\n",
    "\n",
    "plt.legend()\n",
    "ax.set_title('Contour Plot')\n",
    "ax.set_xlabel('x1')\n",
    "ax.set_ylabel('x2')\n",
    "plt.show()"
   ]
  },
  {
   "attachments": {},
   "cell_type": "markdown",
   "metadata": {},
   "source": [
    "Wykres konturowy dla funkcji:\n",
    "$$f(x) = -\\frac{3}{2}x_1^2 + x_1x_2  - \\frac{1}{2}x_2^2 + 2x_1 - 1$$"
   ]
  },
  {
   "cell_type": "code",
   "execution_count": null,
   "metadata": {},
   "outputs": [],
   "source": [
    "x1 = np.arange(-3, 3.5, 0.1)\n",
    "x2 = np.arange(-3, 3.5, 0.1)\n",
    "\n",
    "X, Y = np.meshgrid(x1, x2)\n",
    "Z = -1.5*X**2 + X*Y - 0.5*Y**2 + 2*X - 1\n",
    "\n",
    "fig = plt.figure(figsize=(6,5))\n",
    "left, bottom, width, height = 0.1, 0.1, 0.8, 0.8\n",
    "ax = fig.add_axes([left, bottom, width, height]) \n",
    "\n",
    "cs = plt.contour(X, Y, Z, 50)\n",
    "plt.colorbar(cs)\n",
    "\n",
    "plt.plot(1, 1, marker='o',  markersize=10, color='r', label=\"maximum\")\n",
    "\n",
    "plt.legend()\n",
    "ax.set_title('Contour Plot')\n",
    "ax.set_xlabel('x1')\n",
    "ax.set_ylabel('x2')\n",
    "plt.show()"
   ]
  },
  {
   "attachments": {},
   "cell_type": "markdown",
   "metadata": {},
   "source": [
    "Wykres konturowy dla funkcji:\n",
    "$$f(x) = x_1^2 + 8x_1x_2 + \\frac{1}{2}x_2^2 - 10x_1 - 9x_2 + \\frac{9}{2}$$"
   ]
  },
  {
   "cell_type": "code",
   "execution_count": null,
   "metadata": {},
   "outputs": [],
   "source": [
    "x1 = np.arange(-3, 3.5, 0.1)\n",
    "x2 = np.arange(-3, 3.5, 0.1)\n",
    "\n",
    "X, Y = np.meshgrid(x1, x2)\n",
    "Z = X**2 + 8*X*Y + 0.5*Y**2 - 10*X - 9*Y + 4.5\n",
    "\n",
    "fig = plt.figure(figsize=(6,5))\n",
    "left, bottom, width, height = 0.1, 0.1, 0.8, 0.8\n",
    "ax = fig.add_axes([left, bottom, width, height]) \n",
    "\n",
    "cs = plt.contour(X, Y, Z, 50)\n",
    "plt.colorbar(cs)\n",
    "\n",
    "plt.plot(1, 1, marker='o',  markersize=10, color='r', label=\"saddle point\")\n",
    "\n",
    "plt.legend()\n",
    "ax.set_title('Contour Plot')\n",
    "ax.set_xlabel('x1')\n",
    "ax.set_ylabel('x2')\n",
    "plt.show()"
   ]
  }
 ],
 "metadata": {
  "kernelspec": {
   "display_name": "venv_numerical",
   "language": "python",
   "name": "python3"
  },
  "language_info": {
   "codemirror_mode": {
    "name": "ipython",
    "version": 3
   },
   "file_extension": ".py",
   "mimetype": "text/x-python",
   "name": "python",
   "nbconvert_exporter": "python",
   "pygments_lexer": "ipython3",
   "version": "3.10.10"
  },
  "orig_nbformat": 4
 },
 "nbformat": 4,
 "nbformat_minor": 2
}
