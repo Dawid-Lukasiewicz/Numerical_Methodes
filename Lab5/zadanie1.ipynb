{
 "cells": [
  {
   "cell_type": "code",
   "execution_count": null,
   "metadata": {},
   "outputs": [],
   "source": [
    "import sys\n",
    "sys.path.append(\"../\")\n",
    "from IPython.display import display, Math\n",
    "import os\n",
    "import scipy as sci\n",
    "import numpy as np\n",
    "import matrix_handler as mx\n",
    "from solvers_lab5 import Landweber\n",
    "from solvers_lab5 import Jacobi_iterative\n",
    "from solvers_lab5 import Gauss_Seidel_iterative\n",
    "from solvers_lab5 import SOR_method\n",
    "from solvers_lab5 import SD_method\n",
    "from solvers_lab5 import Kaczmarz_algorithm\n",
    "\n",
    "zadania = \"zadania\""
   ]
  },
  {
   "cell_type": "code",
   "execution_count": null,
   "metadata": {},
   "outputs": [],
   "source": [
    "A = np.loadtxt(os.path.join(zadania, \"zad1_A.txt\") , float, delimiter=\" \", ndmin=2)\n",
    "b = np.loadtxt(os.path.join(zadania, \"zad1_b.txt\"), float, delimiter=\" \", ndmin=1)\n",
    "\n",
    "x0 = np.array([0, 0, 0, 0])\n",
    "\n",
    "xLandweber, graphLandweber = Landweber(A, b, x0)\n",
    "xJacobi, graphJacobi = Jacobi_iterative(A, b, x0)\n",
    "xGauss_Seidel, graphGaussSeidel = Gauss_Seidel_iterative(A, b, x0)\n",
    "xSOR, graphSOR = SOR_method(A, b, x0, omega=0.45) # We should calculate appropriate omega\n",
    "xSD, graphSD = SD_method(A, b, x0)\n",
    "xKaczmarz, graphKaczmarz = Kaczmarz_algorithm(A, b, x0)"
   ]
  },
  {
   "cell_type": "code",
   "execution_count": null,
   "metadata": {},
   "outputs": [],
   "source": [
    "import matplotlib.pyplot as plt\n",
    "fig, ax = plt.subplots()\n",
    "\n",
    "plt.figure(1)\n",
    "ax.plot(graphLandweber[0], graphLandweber[1], marker=\"*\", linestyle=\"--\",  c=\"orange\", label=\"Landweber\")\n",
    "ax.plot(graphJacobi[0], graphJacobi[1], marker=\"*\", linestyle=\"--\", c=\"black\", label=\"Jacobi\")\n",
    "ax.plot(graphGaussSeidel[0], graphGaussSeidel[1], marker=\"*\", linestyle=\"--\",  c=\"blue\", label=\"Gauss-Seidel\")\n",
    "ax.plot(graphSOR[0], graphSOR[1], marker=\"*\", linestyle=\"--\", c=\"red\", label=\"SOR\")\n",
    "ax.plot(graphSD[0], graphSD[1], marker=\"*\", linestyle=\"--\", c=\"green\", label=\"Steepest Descent\")\n",
    "ax.plot(graphKaczmarz[0], graphKaczmarz[1], marker=\"*\", linestyle=\"--\", c=\"pink\", label=\"Kaczmarz\")\n",
    "\n",
    "plt.title(\"Porównanie metod iteracyjnych\")\n",
    "plt.ylabel(\"błąd residualny\")\n",
    "plt.xlabel(\"iteracja k\")\n",
    "plt.legend(loc=\"upper right\")\n",
    "plt.show()"
   ]
  }
 ],
 "metadata": {
  "kernelspec": {
   "display_name": "venv_numerical",
   "language": "python",
   "name": "python3"
  },
  "language_info": {
   "codemirror_mode": {
    "name": "ipython",
    "version": 3
   },
   "file_extension": ".py",
   "mimetype": "text/x-python",
   "name": "python",
   "nbconvert_exporter": "python",
   "pygments_lexer": "ipython3",
   "version": "3.10.10"
  },
  "orig_nbformat": 4
 },
 "nbformat": 4,
 "nbformat_minor": 2
}
