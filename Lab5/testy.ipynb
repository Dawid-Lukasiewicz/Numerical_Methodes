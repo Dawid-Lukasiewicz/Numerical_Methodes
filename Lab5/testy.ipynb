{
 "cells": [
  {
   "cell_type": "code",
   "execution_count": 1,
   "metadata": {},
   "outputs": [],
   "source": [
    "import sys\n",
    "sys.path.append(\"../\")\n",
    "from IPython.display import display, Math\n",
    "import os\n",
    "import scipy as sci\n",
    "import numpy as np\n",
    "import matrix_handler as mx\n",
    "from solvers import Landweber\n",
    "from solvers import Jacobi_iterative\n",
    "from solvers import Gauss_Seidel_iterative\n",
    "\n",
    "zadania = \"zadania\""
   ]
  },
  {
   "cell_type": "code",
   "execution_count": 2,
   "metadata": {},
   "outputs": [
    {
     "data": {
      "text/latex": [
       "$\\displaystyle A =$"
      ],
      "text/plain": [
       "<IPython.core.display.Math object>"
      ]
     },
     "metadata": {},
     "output_type": "display_data"
    },
    {
     "data": {
      "text/latex": [
       "$\\displaystyle \\begin{bmatrix}2.0&-1.0&0.0&0.0\\\\-1.0&2.0&-1.0&0.0\\\\0.0&-1.0&2.0&-1.0\\\\0.0&0.0&-1.0&2.0\\\\\\end{bmatrix}$"
      ],
      "text/plain": [
       "<IPython.core.display.Math object>"
      ]
     },
     "metadata": {},
     "output_type": "display_data"
    },
    {
     "data": {
      "text/latex": [
       "$\\displaystyle b^T =$"
      ],
      "text/plain": [
       "<IPython.core.display.Math object>"
      ]
     },
     "metadata": {},
     "output_type": "display_data"
    },
    {
     "data": {
      "text/latex": [
       "$\\displaystyle \\begin{bmatrix}0.0\\\\0.0\\\\0.0\\\\5.0\\\\\\end{bmatrix}$"
      ],
      "text/plain": [
       "<IPython.core.display.Math object>"
      ]
     },
     "metadata": {},
     "output_type": "display_data"
    },
    {
     "ename": "NameError",
     "evalue": "name 'landweber' is not defined",
     "output_type": "error",
     "traceback": [
      "\u001b[0;31m---------------------------------------------------------------------------\u001b[0m",
      "\u001b[0;31mNameError\u001b[0m                                 Traceback (most recent call last)",
      "Cell \u001b[0;32mIn[2], line 9\u001b[0m\n\u001b[1;32m      6\u001b[0m display(Math(\u001b[39m\"\u001b[39m\u001b[39mb^T =\u001b[39m\u001b[39m\"\u001b[39m))\n\u001b[1;32m      7\u001b[0m mx\u001b[39m.\u001b[39mprint_matrix(b\u001b[39m.\u001b[39mT)\n\u001b[0;32m----> 9\u001b[0m x \u001b[39m=\u001b[39m landweber(A, b, alpha\u001b[39m=\u001b[39m\u001b[39m.3\u001b[39m)\n\u001b[1;32m     11\u001b[0m display(Math(\u001b[39m\"\u001b[39m\u001b[39mx^T =\u001b[39m\u001b[39m\"\u001b[39m))\n\u001b[1;32m     12\u001b[0m mx\u001b[39m.\u001b[39mprint_matrix(x\u001b[39m.\u001b[39mT)\n",
      "\u001b[0;31mNameError\u001b[0m: name 'landweber' is not defined"
     ]
    }
   ],
   "source": [
    "A = np.loadtxt(os.path.join(zadania, \"zad1_A.txt\") , float, delimiter=\" \", ndmin=2)\n",
    "b = np.loadtxt(os.path.join(zadania, \"zad1_b.txt\"), float, delimiter=\" \", ndmin=1)\n",
    "\n",
    "display(Math(\"A =\"))\n",
    "mx.print_matrix(A)\n",
    "display(Math(\"b^T =\"))\n",
    "mx.print_matrix(b.T)\n",
    "\n",
    "x = Landweber(A, b, alpha=.3)\n",
    "\n",
    "display(Math(\"x^T =\"))\n",
    "mx.print_matrix(x.T)\n",
    "\n",
    "display(Math(\"Ax =\"))\n",
    "mx.print_matrix(A @ x)"
   ]
  },
  {
   "cell_type": "code",
   "execution_count": null,
   "metadata": {},
   "outputs": [
    {
     "data": {
      "text/latex": [
       "$\\displaystyle x^T =$"
      ],
      "text/plain": [
       "<IPython.core.display.Math object>"
      ]
     },
     "metadata": {},
     "output_type": "display_data"
    },
    {
     "data": {
      "text/latex": [
       "$\\displaystyle \\begin{bmatrix}0.9999981304773673\\\\1.9999969750488376\\\\2.9999969750488376\\\\3.9999981304773673\\\\\\end{bmatrix}$"
      ],
      "text/plain": [
       "<IPython.core.display.Math object>"
      ]
     },
     "metadata": {},
     "output_type": "display_data"
    },
    {
     "data": {
      "text/latex": [
       "$\\displaystyle Ax =$"
      ],
      "text/plain": [
       "<IPython.core.display.Math object>"
      ]
     },
     "metadata": {},
     "output_type": "display_data"
    },
    {
     "data": {
      "text/latex": [
       "$\\displaystyle \\begin{bmatrix}-7.140941029604164e-07\\\\-1.155428529742153e-06\\\\-1.155428529742153e-06\\\\4.999999285905897\\\\\\end{bmatrix}$"
      ],
      "text/plain": [
       "<IPython.core.display.Math object>"
      ]
     },
     "metadata": {},
     "output_type": "display_data"
    }
   ],
   "source": [
    "x = Jacobi_iterative(A, b, x)\n",
    "\n",
    "display(Math(\"x^T =\"))\n",
    "mx.print_matrix(x.T)\n",
    "\n",
    "display(Math(\"Ax =\"))\n",
    "mx.print_matrix(A @ x)"
   ]
  },
  {
   "cell_type": "code",
   "execution_count": null,
   "metadata": {},
   "outputs": [
    {
     "data": {
      "text/latex": [
       "$\\displaystyle x^T =$"
      ],
      "text/plain": [
       "<IPython.core.display.Math object>"
      ]
     },
     "metadata": {},
     "output_type": "display_data"
    },
    {
     "data": {
      "text/latex": [
       "$\\displaystyle \\begin{bmatrix}0.9999981304773673\\\\1.9999969750488376\\\\2.9999969750488376\\\\3.9999981304773673\\\\\\end{bmatrix}$"
      ],
      "text/plain": [
       "<IPython.core.display.Math object>"
      ]
     },
     "metadata": {},
     "output_type": "display_data"
    },
    {
     "data": {
      "text/latex": [
       "$\\displaystyle Ax =$"
      ],
      "text/plain": [
       "<IPython.core.display.Math object>"
      ]
     },
     "metadata": {},
     "output_type": "display_data"
    },
    {
     "data": {
      "text/latex": [
       "$\\displaystyle \\begin{bmatrix}-7.140941029604164e-07\\\\-1.155428529742153e-06\\\\-1.155428529742153e-06\\\\4.999999285905897\\\\\\end{bmatrix}$"
      ],
      "text/plain": [
       "<IPython.core.display.Math object>"
      ]
     },
     "metadata": {},
     "output_type": "display_data"
    }
   ],
   "source": [
    "x = Gauss_Seidel_iterative(A, b, x)\n",
    "\n",
    "display(Math(\"x^T =\"))\n",
    "mx.print_matrix(x.T)\n",
    "\n",
    "display(Math(\"Ax =\"))\n",
    "mx.print_matrix(A @ x)"
   ]
  }
 ],
 "metadata": {
  "kernelspec": {
   "display_name": "venv_numerical",
   "language": "python",
   "name": "python3"
  },
  "language_info": {
   "codemirror_mode": {
    "name": "ipython",
    "version": 3
   },
   "file_extension": ".py",
   "mimetype": "text/x-python",
   "name": "python",
   "nbconvert_exporter": "python",
   "pygments_lexer": "ipython3",
   "version": "3.10.10"
  },
  "orig_nbformat": 4
 },
 "nbformat": 4,
 "nbformat_minor": 2
}
