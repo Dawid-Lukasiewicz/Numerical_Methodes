{
 "cells": [
  {
   "cell_type": "code",
   "execution_count": null,
   "metadata": {},
   "outputs": [],
   "source": [
    "import sys\n",
    "sys.path.append(\"../\")\n",
    "from IPython.display import display, Math\n",
    "import os\n",
    "import scipy as sci\n",
    "import numpy as np\n",
    "import matrix_handler as mx\n",
    "from solvers_lab5 import Landweber\n",
    "from solvers_lab5 import Jacobi_iterative\n",
    "from solvers_lab5 import Gauss_Seidel_iterative\n",
    "from solvers_lab5 import SOR_method\n",
    "from solvers_lab5 import SD_method\n",
    "from solvers_lab5 import Kaczmarz_algorithm\n",
    "from solvers_lab5 import Grand_Solverr\n",
    "from solvers_lab5 import mysterious_matrix\n",
    "\n",
    "import matplotlib.pyplot as plt\n",
    "\n",
    "zadania = \"zadania\"\n",
    "algorithmss = [Jacobi_iterative, Gauss_Seidel_iterative, SOR_method, SD_method, Kaczmarz_algorithm, Landweber]"
   ]
  },
  {
   "cell_type": "code",
   "execution_count": null,
   "metadata": {},
   "outputs": [],
   "source": [
    "N = 10\n",
    "A_N = mysterious_matrix(N)\n",
    "b = np.ones(N)\n",
    "x0 = np.zeros(N)\n",
    "\n",
    "xs = Grand_Solverr(A_N, b, x0, None, algorithmss)"
   ]
  },
  {
   "cell_type": "code",
   "execution_count": null,
   "metadata": {},
   "outputs": [],
   "source": [
    "N = 100\n",
    "A_N = mysterious_matrix(N)\n",
    "b = np.ones(N)\n",
    "x0 = np.zeros(N)\n",
    "\n",
    "xs = Grand_Solverr(A_N, b, x0, None, algorithmss)"
   ]
  },
  {
   "cell_type": "code",
   "execution_count": null,
   "metadata": {},
   "outputs": [],
   "source": [
    "N = 1000\n",
    "A_N = mysterious_matrix(N)\n",
    "b = np.ones(N)\n",
    "x0 = np.zeros(N)\n",
    "\n",
    "xs = Grand_Solverr(A_N, b, x0, None, algorithmss)"
   ]
  },
  {
   "cell_type": "code",
   "execution_count": null,
   "metadata": {},
   "outputs": [],
   "source": [
    "N = 10000\n",
    "A_N = mysterious_matrix(N)\n",
    "b = np.ones(N)\n",
    "x0 = np.zeros(N)\n",
    "\n",
    "xs = Grand_Solverr(A_N, b, x0, None, algorithmss)"
   ]
  },
  {
   "cell_type": "code",
   "execution_count": null,
   "metadata": {},
   "outputs": [],
   "source": [
    "N = 100000\n",
    "A_N = mysterious_matrix(N)\n",
    "b = np.ones(N)\n",
    "x0 = np.zeros(N)\n",
    "\n",
    "xs = Grand_Solverr(A_N, b, x0, None, algorithmss)"
   ]
  }
 ],
 "metadata": {
  "kernelspec": {
   "display_name": "numerical_venv",
   "language": "python",
   "name": "python3"
  },
  "language_info": {
   "codemirror_mode": {
    "name": "ipython",
    "version": 3
   },
   "file_extension": ".py",
   "mimetype": "text/x-python",
   "name": "python",
   "nbconvert_exporter": "python",
   "pygments_lexer": "ipython3",
   "version": "3.10.10"
  },
  "orig_nbformat": 4
 },
 "nbformat": 4,
 "nbformat_minor": 2
}
