{
 "cells": [
  {
   "cell_type": "code",
   "execution_count": 1,
   "metadata": {},
   "outputs": [],
   "source": [
    "import os\n",
    "import numpy as np\n",
    "import scipy as sci\n",
    "\n",
    "zadania = \"zadania\""
   ]
  },
  {
   "cell_type": "code",
   "execution_count": 2,
   "metadata": {},
   "outputs": [
    {
     "name": "stdout",
     "output_type": "stream",
     "text": [
      "########## Zadanie 3 ##########\n",
      "[[0.000e+00 0.000e+00 1.000e+00]\n",
      " [6.250e+04 2.500e+02 1.000e+00]\n",
      " [2.500e+05 5.000e+02 1.000e+00]\n",
      " [5.625e+05 7.500e+02 1.000e+00]\n",
      " [1.000e+06 1.000e+03 1.000e+00]]\n",
      "[[ 0.]\n",
      " [ 8.]\n",
      " [15.]\n",
      " [19.]\n",
      " [20.]]\n",
      "[[-1.94285714e-05]\n",
      " [ 3.98285714e-02]\n",
      " [-2.28571429e-01]]\n"
     ]
    }
   ],
   "source": [
    "print(\"########## Zadanie 3 ##########\")\n",
    "\n",
    "A = np.loadtxt(os.path.join(zadania, \"zad3.txt\"), float, delimiter=\" \", ndmin=2)\n",
    "b = np.loadtxt(os.path.join(zadania, \"zad3_b.txt\"), float, delimiter=\" \", ndmin=2)\n",
    "\n",
    "print(A)\n",
    "print(b)\n",
    "\n",
    "x, _, _, _ = sci.linalg.lstsq(A, b)\n",
    "print(x)"
   ]
  },
  {
   "cell_type": "code",
   "execution_count": 3,
   "metadata": {},
   "outputs": [
    {
     "name": "stdout",
     "output_type": "stream",
     "text": [
      "f( 0.0 ) =  [0.]  vs  [-0.22857143]\n",
      "f( 250.0 ) =  [8.]  vs  [8.51428571]\n",
      "f( 500.0 ) =  [15.]  vs  [14.82857143]\n",
      "f( 750.0 ) =  [19.]  vs  [18.71428571]\n",
      "f( 1000.0 ) =  [20.]  vs  [20.17142857]\n"
     ]
    }
   ],
   "source": [
    "samplesLen = len(b)\n",
    "coefsNum = len(x)\n",
    "y = []\n",
    "for i in range(samplesLen):\n",
    "    y.append(x[0]*A[i][0]+x[1]*A[i][1]+x[2]*A[i][2])\n",
    "    print(\"f(\", A[i][1] , \") = \", b[i], \" vs \", y[i])"
   ]
  }
 ],
 "metadata": {
  "kernelspec": {
   "display_name": "numerical_venv",
   "language": "python",
   "name": "python3"
  },
  "language_info": {
   "codemirror_mode": {
    "name": "ipython",
    "version": 3
   },
   "file_extension": ".py",
   "mimetype": "text/x-python",
   "name": "python",
   "nbconvert_exporter": "python",
   "pygments_lexer": "ipython3",
   "version": "3.10.6"
  },
  "orig_nbformat": 4
 },
 "nbformat": 4,
 "nbformat_minor": 2
}
