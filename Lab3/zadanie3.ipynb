{
 "cells": [
  {
   "cell_type": "code",
   "execution_count": 1,
   "metadata": {},
   "outputs": [],
   "source": [
    "import sys\n",
    "sys.path.append(\"../\")\n",
    "from IPython.display import display, Math\n",
    "import os\n",
    "import numpy as np\n",
    "import scipy as sci\n",
    "import matrix_handler as mx\n",
    "\n",
    "zadania = \"zadania\""
   ]
  },
  {
   "attachments": {},
   "cell_type": "markdown",
   "metadata": {},
   "source": [
    "Ponieważ wiemy, że pocisk porusza się po parabolicznym torze to wzór funkcji wygląda następująco:\n",
    "$$ f(x) = a_0 x^2 + a_1 x + a_2 $$\n",
    "Tym samym możemy wstawić wartości położenia pocisku $x$ do funkcji i stworzyć macierz $A$:\n",
    "$$  A = \\begin{bmatrix}\n",
    "        0 & 0 & 1\\\\\n",
    "        62500 & 250 & 1\\\\\n",
    "        250000 & 500 & 1\\\\\n",
    "        562500 & 750 & 1\\\\\n",
    "        1000000 & 1000 & 1\\\\\n",
    "        \\end{bmatrix}$$\n",
    "Natomiast wektor $b$ jest nam wprost dany z pomiarów wysokości pocisku i wygląda następująco:\n",
    "$$ b^T = \\begin{bmatrix}\n",
    "        0 & 8 & 15 & 19 & 20\n",
    "        \\end{bmatrix}$$"
   ]
  },
  {
   "cell_type": "code",
   "execution_count": 2,
   "metadata": {},
   "outputs": [
    {
     "data": {
      "text/latex": [
       "$\\displaystyle A^T =$"
      ],
      "text/plain": [
       "<IPython.core.display.Math object>"
      ]
     },
     "metadata": {},
     "output_type": "display_data"
    },
    {
     "data": {
      "text/latex": [
       "$\\displaystyle \\begin{bmatrix}0.0&62500.0&250000.0&562500.0&1000000.0\\\\0.0&250.0&500.0&750.0&1000.0\\\\1.0&1.0&1.0&1.0&1.0\\\\\\end{bmatrix}$"
      ],
      "text/plain": [
       "<IPython.core.display.Math object>"
      ]
     },
     "metadata": {},
     "output_type": "display_data"
    },
    {
     "data": {
      "text/latex": [
       "$\\displaystyle b^T = $"
      ],
      "text/plain": [
       "<IPython.core.display.Math object>"
      ]
     },
     "metadata": {},
     "output_type": "display_data"
    },
    {
     "data": {
      "text/latex": [
       "$\\displaystyle \\begin{bmatrix}0.0&8.0&15.0&19.0&20.0\\\\\\end{bmatrix}$"
      ],
      "text/plain": [
       "<IPython.core.display.Math object>"
      ]
     },
     "metadata": {},
     "output_type": "display_data"
    },
    {
     "data": {
      "text/latex": [
       "$\\displaystyle x^T = $"
      ],
      "text/plain": [
       "<IPython.core.display.Math object>"
      ]
     },
     "metadata": {},
     "output_type": "display_data"
    },
    {
     "data": {
      "text/latex": [
       "$\\displaystyle \\begin{bmatrix}-1.9428571428571163e-05&0.03982857142857145&-0.22857142857143023\\\\\\end{bmatrix}$"
      ],
      "text/plain": [
       "<IPython.core.display.Math object>"
      ]
     },
     "metadata": {},
     "output_type": "display_data"
    }
   ],
   "source": [
    "A = np.loadtxt(os.path.join(zadania, \"zad3.txt\"), float, delimiter=\" \", ndmin=2)\n",
    "b = np.loadtxt(os.path.join(zadania, \"zad3_b.txt\"), float, delimiter=\" \", ndmin=2)\n",
    "\n",
    "x, _, _, _ = sci.linalg.lstsq(A, b)\n",
    "display(Math(\"A^T =\"))\n",
    "mx.print_matrix(A.T)\n",
    "display(Math(\"b^T = \"))\n",
    "mx.print_matrix(b.T)\n",
    "display(Math(\"x^T = \"))\n",
    "mx.print_matrix(x.T)"
   ]
  },
  {
   "attachments": {},
   "cell_type": "markdown",
   "metadata": {},
   "source": [
    "Przeprowadzono porównanie wartości położenia pocisku do tych przewidywanych z apryksomowanej funkcji parabolicznej. Możemy zauważyć, że wyniki wartości funkcji parabolicznej są zbliżone do rzeczywistych."
   ]
  },
  {
   "cell_type": "code",
   "execution_count": 3,
   "metadata": {},
   "outputs": [
    {
     "name": "stdout",
     "output_type": "stream",
     "text": [
      "f( 0.0 ) =  [0.]  vs  [-0.22857143]\n",
      "f( 250.0 ) =  [8.]  vs  [8.51428571]\n",
      "f( 500.0 ) =  [15.]  vs  [14.82857143]\n",
      "f( 750.0 ) =  [19.]  vs  [18.71428571]\n",
      "f( 1000.0 ) =  [20.]  vs  [20.17142857]\n"
     ]
    }
   ],
   "source": [
    "samplesLen = len(b)\n",
    "coefsNum = len(x)\n",
    "y = []\n",
    "for i in range(samplesLen):\n",
    "    y.append(x[0]*A[i][0]+x[1]*A[i][1]+x[2]*A[i][2])\n",
    "    print(\"f(\", A[i][1] , \") = \", b[i], \" vs \", y[i])"
   ]
  },
  {
   "attachments": {},
   "cell_type": "markdown",
   "metadata": {},
   "source": [
    "Możemy przejść do obliczenia punktu upadku pocisku. Dla rozwiązania komputerowego wykorzystano podstawianie wartości położeni $x$ pocisku dopóki wartość $y$ nie będzie zbliżona do 0."
   ]
  },
  {
   "cell_type": "code",
   "execution_count": 4,
   "metadata": {},
   "outputs": [
    {
     "name": "stdout",
     "output_type": "stream",
     "text": [
      "x =  2044 y =  [0.00970057]\n"
     ]
    }
   ],
   "source": [
    "e = pow(10, -2)\n",
    "\n",
    "for i in range(1000, 2500):\n",
    "    ySolution = x[0]*i*i+x[1]*i+x[2]\n",
    "    if abs(ySolution) < e:\n",
    "        xSolution = i\n",
    "        break\n",
    "\n",
    "print(\"x = \", xSolution, \"y = \", ySolution)\n",
    "        "
   ]
  }
 ],
 "metadata": {
  "kernelspec": {
   "display_name": "Python 3 (ipykernel)",
   "language": "python",
   "name": "python3"
  },
  "language_info": {
   "codemirror_mode": {
    "name": "ipython",
    "version": 3
   },
   "file_extension": ".py",
   "mimetype": "text/x-python",
   "name": "python",
   "nbconvert_exporter": "python",
   "pygments_lexer": "ipython3",
   "version": "3.10.10"
  }
 },
 "nbformat": 4,
 "nbformat_minor": 2
}
