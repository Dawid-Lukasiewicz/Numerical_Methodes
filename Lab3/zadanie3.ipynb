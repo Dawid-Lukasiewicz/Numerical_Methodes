{
 "cells": [
  {
   "cell_type": "code",
   "execution_count": 1,
   "metadata": {},
   "outputs": [],
   "source": [
    "import os\n",
    "import numpy as np\n",
    "import scipy as sci\n",
    "\n",
    "zadania = \"zadania\""
   ]
  },
  {
   "cell_type": "code",
   "execution_count": 2,
   "metadata": {},
   "outputs": [
    {
     "name": "stdout",
     "output_type": "stream",
     "text": [
      "########## Zadanie 3 ##########\n",
      "[[0.000e+00 0.000e+00 1.000e+00]\n",
      " [6.250e+04 2.500e+02 1.000e+00]\n",
      " [2.500e+05 5.000e+02 1.000e+00]\n",
      " [5.625e+05 7.500e+02 1.000e+00]\n",
      " [1.000e+06 1.000e+03 1.000e+00]]\n",
      "[[ 0.]\n",
      " [ 8.]\n",
      " [15.]\n",
      " [19.]\n",
      " [20.]]\n",
      "[[-1.94285714e-05]\n",
      " [ 3.98285714e-02]\n",
      " [-2.28571429e-01]]\n"
     ]
    }
   ],
   "source": [
    "print(\"########## Zadanie 3 ##########\")\n",
    "\n",
    "A = np.loadtxt(os.path.join(zadania, \"zad3.txt\"), float, delimiter=\" \", ndmin=2)\n",
    "b = np.loadtxt(os.path.join(zadania, \"zad3_b.txt\"), float, delimiter=\" \", ndmin=2)\n",
    "\n",
    "print(A)\n",
    "print(b)\n",
    "\n",
    "x, _, _, _ = sci.linalg.lstsq(A, b)\n",
    "print(x)"
   ]
  }
 ],
 "metadata": {
  "kernelspec": {
   "display_name": "numerical_venv",
   "language": "python",
   "name": "python3"
  },
  "language_info": {
   "codemirror_mode": {
    "name": "ipython",
    "version": 3
   },
   "file_extension": ".py",
   "mimetype": "text/x-python",
   "name": "python",
   "nbconvert_exporter": "python",
   "pygments_lexer": "ipython3",
   "version": "3.10.6"
  },
  "orig_nbformat": 4
 },
 "nbformat": 4,
 "nbformat_minor": 2
}
