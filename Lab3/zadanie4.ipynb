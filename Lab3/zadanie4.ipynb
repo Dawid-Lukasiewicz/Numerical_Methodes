{
 "cells": [
  {
   "cell_type": "code",
   "execution_count": 6,
   "metadata": {},
   "outputs": [],
   "source": [
    "import os\n",
    "import scipy as sci\n",
    "import numpy as np\n",
    "\n",
    "zadania = \"zadania\""
   ]
  },
  {
   "attachments": {},
   "cell_type": "markdown",
   "metadata": {},
   "source": [
    "Least square method"
   ]
  },
  {
   "cell_type": "code",
   "execution_count": 7,
   "metadata": {},
   "outputs": [
    {
     "name": "stdout",
     "output_type": "stream",
     "text": [
      "########## Zadanie 4 A ##########\n",
      "A^T = \n",
      " [[ 1.  1.  1.  1.  1.  1.  1.  1.  1.  1.  1.]\n",
      " [-5. -4. -3. -2. -1.  0.  1.  2.  3.  4.  5.]]\n",
      "b^T = \n",
      " [[ 2.  7.  9. 12. 13. 14. 14. 13. 10.  8.  4.]]\n",
      "x^T = \n",
      " [[9.63636364 0.18181818]]\n"
     ]
    }
   ],
   "source": [
    "print(\"########## Zadanie 4 A ##########\")\n",
    "\n",
    "A = np.loadtxt(os.path.join(zadania, \"zad4A.txt\"), float, delimiter=\" \", ndmin=2)\n",
    "b = np.loadtxt(os.path.join(zadania, \"zad4_b.txt\"), float, delimiter=\" \", ndmin=2)\n",
    "\n",
    "x, _, _, _ = sci.linalg.lstsq(A, b)\n",
    "print(\"A^T = \\n\", A.T)\n",
    "print(\"b^T = \\n\", b.T)\n",
    "print(\"x^T = \\n\", x.T)"
   ]
  },
  {
   "attachments": {},
   "cell_type": "markdown",
   "metadata": {},
   "source": [
    "Run the comparison to original values for function\n",
    "$$ f(x) = a_0 + a_1 * x$$"
   ]
  },
  {
   "cell_type": "code",
   "execution_count": 8,
   "metadata": {},
   "outputs": [
    {
     "name": "stdout",
     "output_type": "stream",
     "text": [
      "f( -5.0 ) =  [2.]  vs  [8.72727273]\n",
      "f( -4.0 ) =  [7.]  vs  [8.90909091]\n",
      "f( -3.0 ) =  [9.]  vs  [9.09090909]\n",
      "f( -2.0 ) =  [12.]  vs  [9.27272727]\n",
      "f( -1.0 ) =  [13.]  vs  [9.45454545]\n",
      "f( 0.0 ) =  [14.]  vs  [9.63636364]\n",
      "f( 1.0 ) =  [14.]  vs  [9.81818182]\n",
      "f( 2.0 ) =  [13.]  vs  [10.]\n",
      "f( 3.0 ) =  [10.]  vs  [10.18181818]\n",
      "f( 4.0 ) =  [8.]  vs  [10.36363636]\n",
      "f( 5.0 ) =  [4.]  vs  [10.54545455]\n"
     ]
    }
   ],
   "source": [
    "samplesLen = len(b)\n",
    "coefsNum = len(x)\n",
    "y = []\n",
    "for i in range(samplesLen):\n",
    "    y.append(A[i][0]*x[0] + A[i][1]*x[1])\n",
    "    print(\"f(\", A[i][1] , \") = \", b[i], \" vs \", y[i])"
   ]
  },
  {
   "cell_type": "code",
   "execution_count": 9,
   "metadata": {},
   "outputs": [
    {
     "name": "stdout",
     "output_type": "stream",
     "text": [
      "########## Zadanie 4 B ##########\n",
      "A^T = \n",
      " [[ 1.  1.  1.  1.  1.  1.  1.  1.  1.  1.  1.]\n",
      " [-5. -4. -3. -2. -1.  0.  1.  2.  3.  4.  5.]\n",
      " [25. 16.  9.  4.  1.  0.  1.  4.  9. 16. 25.]]\n",
      "b^T = \n",
      " [[ 2.  7.  9. 12. 13. 14. 14. 13. 10.  8.  4.]]\n",
      "x^T = \n",
      " [[13.97202797  0.18181818 -0.43356643]]\n"
     ]
    }
   ],
   "source": [
    "print(\"########## Zadanie 4 B ##########\")\n",
    "\n",
    "A = np.loadtxt(os.path.join(zadania, \"zad4B.txt\"), float, delimiter=\" \", ndmin=2)\n",
    "b = np.loadtxt(os.path.join(zadania, \"zad4_b.txt\"), float, delimiter=\" \", ndmin=2)\n",
    "\n",
    "x, _, _, _ = sci.linalg.lstsq(A, b)\n",
    "print(\"A^T = \\n\", A.T)\n",
    "print(\"b^T = \\n\", b.T)\n",
    "print(\"x^T = \\n\", x.T)"
   ]
  },
  {
   "cell_type": "code",
   "execution_count": 10,
   "metadata": {},
   "outputs": [
    {
     "name": "stdout",
     "output_type": "stream",
     "text": [
      "f( -5.0 ) =  [2.]  vs  [2.22377622]\n",
      "f( -4.0 ) =  [7.]  vs  [6.30769231]\n",
      "f( -3.0 ) =  [9.]  vs  [9.52447552]\n",
      "f( -2.0 ) =  [12.]  vs  [11.87412587]\n",
      "f( -1.0 ) =  [13.]  vs  [13.35664336]\n",
      "f( 0.0 ) =  [14.]  vs  [13.97202797]\n",
      "f( 1.0 ) =  [14.]  vs  [13.72027972]\n",
      "f( 2.0 ) =  [13.]  vs  [12.6013986]\n",
      "f( 3.0 ) =  [10.]  vs  [10.61538462]\n",
      "f( 4.0 ) =  [8.]  vs  [7.76223776]\n",
      "f( 5.0 ) =  [4.]  vs  [4.04195804]\n"
     ]
    }
   ],
   "source": [
    "samplesLen = len(b)\n",
    "coefsNum = len(x)\n",
    "y = []\n",
    "for i in range(samplesLen):\n",
    "    y.append(A[i][0]*x[0] + A[i][1]*x[1] + A[i][2]*x[2])\n",
    "    print(\"f(\", A[i][1] , \") = \", b[i], \" vs \", y[i])"
   ]
  }
 ],
 "metadata": {
  "kernelspec": {
   "display_name": "numerical_venv",
   "language": "python",
   "name": "python3"
  },
  "language_info": {
   "codemirror_mode": {
    "name": "ipython",
    "version": 3
   },
   "file_extension": ".py",
   "mimetype": "text/x-python",
   "name": "python",
   "nbconvert_exporter": "python",
   "pygments_lexer": "ipython3",
   "version": "3.10.6"
  },
  "orig_nbformat": 4
 },
 "nbformat": 4,
 "nbformat_minor": 2
}
