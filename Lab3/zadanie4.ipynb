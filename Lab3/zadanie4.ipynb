{
 "cells": [
  {
   "cell_type": "code",
   "execution_count": 10,
   "metadata": {},
   "outputs": [],
   "source": [
    "import os\n",
    "import scipy as sci\n",
    "import numpy as np\n",
    "\n",
    "zadania = \"zadania\""
   ]
  },
  {
   "attachments": {},
   "cell_type": "markdown",
   "metadata": {},
   "source": [
    "Least square method"
   ]
  },
  {
   "cell_type": "code",
   "execution_count": 11,
   "metadata": {},
   "outputs": [
    {
     "name": "stdout",
     "output_type": "stream",
     "text": [
      "########## Zadanie 4 A ##########\n",
      "A = \n",
      " [[ 1. -5.]\n",
      " [ 1. -4.]\n",
      " [ 1. -3.]\n",
      " [ 1. -2.]\n",
      " [ 1. -1.]\n",
      " [ 1.  0.]\n",
      " [ 1.  1.]\n",
      " [ 1.  2.]\n",
      " [ 1.  3.]\n",
      " [ 1.  4.]\n",
      " [ 1.  5.]]\n",
      "b = \n",
      " [[ 2.]\n",
      " [ 7.]\n",
      " [ 9.]\n",
      " [12.]\n",
      " [13.]\n",
      " [14.]\n",
      " [14.]\n",
      " [13.]\n",
      " [10.]\n",
      " [ 8.]\n",
      " [ 4.]]\n",
      "x = \n",
      " [[9.63636364]\n",
      " [0.18181818]]\n"
     ]
    }
   ],
   "source": [
    "print(\"########## Zadanie 4 A ##########\")\n",
    "\n",
    "A = np.loadtxt(os.path.join(zadania, \"zad4A.txt\"), float, delimiter=\" \", ndmin=2)\n",
    "b = np.loadtxt(os.path.join(zadania, \"zad4_b.txt\"), float, delimiter=\" \", ndmin=2)\n",
    "\n",
    "x, _, _, _ = sci.linalg.lstsq(A, b)\n",
    "print(\"A = \\n\", A)\n",
    "print(\"b = \\n\", b)\n",
    "print(\"x = \\n\", x)"
   ]
  },
  {
   "attachments": {},
   "cell_type": "markdown",
   "metadata": {},
   "source": [
    "Run the comparison to original values for function\n",
    "$$ f(x) = a_0 + a_1 * x$$"
   ]
  },
  {
   "cell_type": "code",
   "execution_count": 12,
   "metadata": {},
   "outputs": [
    {
     "name": "stdout",
     "output_type": "stream",
     "text": [
      "f( -5.0 ) =  [2.]  vs  [8.72727273]\n",
      "f( -4.0 ) =  [7.]  vs  [8.90909091]\n",
      "f( -3.0 ) =  [9.]  vs  [9.09090909]\n",
      "f( -2.0 ) =  [12.]  vs  [9.27272727]\n",
      "f( -1.0 ) =  [13.]  vs  [9.45454545]\n",
      "f( 0.0 ) =  [14.]  vs  [9.63636364]\n",
      "f( 1.0 ) =  [14.]  vs  [9.81818182]\n",
      "f( 2.0 ) =  [13.]  vs  [10.]\n",
      "f( 3.0 ) =  [10.]  vs  [10.18181818]\n",
      "f( 4.0 ) =  [8.]  vs  [10.36363636]\n",
      "f( 5.0 ) =  [4.]  vs  [10.54545455]\n"
     ]
    }
   ],
   "source": [
    "samplesLen = len(b)\n",
    "coefsNum = len(x)\n",
    "y = []\n",
    "for i in range(samplesLen):\n",
    "    y.append(A[i][0]*x[0] + A[i][1]*x[1])\n",
    "    print(\"f(\", A[i][1] , \") = \", b[i], \" vs \", y[i])"
   ]
  }
 ],
 "metadata": {
  "kernelspec": {
   "display_name": "numerical_venv",
   "language": "python",
   "name": "python3"
  },
  "language_info": {
   "codemirror_mode": {
    "name": "ipython",
    "version": 3
   },
   "file_extension": ".py",
   "mimetype": "text/x-python",
   "name": "python",
   "nbconvert_exporter": "python",
   "pygments_lexer": "ipython3",
   "version": "3.10.6"
  },
  "orig_nbformat": 4
 },
 "nbformat": 4,
 "nbformat_minor": 2
}
