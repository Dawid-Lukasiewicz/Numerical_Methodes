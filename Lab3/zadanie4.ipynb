{
 "cells": [
  {
   "cell_type": "code",
   "execution_count": 1,
   "metadata": {},
   "outputs": [],
   "source": [
    "import sys\n",
    "sys.path.append(\"../\")\n",
    "from IPython.display import display, Math\n",
    "import os\n",
    "import scipy as sci\n",
    "import numpy as np\n",
    "import matrix_handler as mx\n",
    "\n",
    "zadania = \"zadania\""
   ]
  },
  {
   "attachments": {},
   "cell_type": "markdown",
   "metadata": {},
   "source": [
    "Least square method"
   ]
  },
  {
   "cell_type": "code",
   "execution_count": 2,
   "metadata": {},
   "outputs": [
    {
     "name": "stdout",
     "output_type": "stream",
     "text": [
      "########## Zadanie 4 A ##########\n"
     ]
    },
    {
     "data": {
      "text/latex": [
       "$\\displaystyle A^T =$"
      ],
      "text/plain": [
       "<IPython.core.display.Math object>"
      ]
     },
     "metadata": {},
     "output_type": "display_data"
    },
    {
     "data": {
      "text/latex": [
       "$\\displaystyle \\begin{bmatrix}1.0&1.0&1.0&1.0&1.0&1.0&1.0&1.0&1.0&1.0&1.0\\\\-5.0&-4.0&-3.0&-2.0&-1.0&0.0&1.0&2.0&3.0&4.0&5.0\\\\\\end{bmatrix}$"
      ],
      "text/plain": [
       "<IPython.core.display.Math object>"
      ]
     },
     "metadata": {},
     "output_type": "display_data"
    },
    {
     "data": {
      "text/latex": [
       "$\\displaystyle b^T = $"
      ],
      "text/plain": [
       "<IPython.core.display.Math object>"
      ]
     },
     "metadata": {},
     "output_type": "display_data"
    },
    {
     "data": {
      "text/latex": [
       "$\\displaystyle \\begin{bmatrix}2.0&7.0&9.0&12.0&13.0&14.0&14.0&13.0&10.0&8.0&4.0\\\\\\end{bmatrix}$"
      ],
      "text/plain": [
       "<IPython.core.display.Math object>"
      ]
     },
     "metadata": {},
     "output_type": "display_data"
    },
    {
     "data": {
      "text/latex": [
       "$\\displaystyle x^T = $"
      ],
      "text/plain": [
       "<IPython.core.display.Math object>"
      ]
     },
     "metadata": {},
     "output_type": "display_data"
    },
    {
     "data": {
      "text/latex": [
       "$\\displaystyle \\begin{bmatrix}9.636363636363635&0.18181818181818157\\\\\\end{bmatrix}$"
      ],
      "text/plain": [
       "<IPython.core.display.Math object>"
      ]
     },
     "metadata": {},
     "output_type": "display_data"
    }
   ],
   "source": [
    "print(\"########## Zadanie 4 A ##########\")\n",
    "\n",
    "A = np.loadtxt(os.path.join(zadania, \"zad4A.txt\"), float, delimiter=\" \", ndmin=2)\n",
    "b = np.loadtxt(os.path.join(zadania, \"zad4_b.txt\"), float, delimiter=\" \", ndmin=2)\n",
    "\n",
    "x, _, _, _ = sci.linalg.lstsq(A, b)\n",
    "display(Math(\"A^T =\"))\n",
    "mx.print_matrix(A.T)\n",
    "display(Math(\"b^T = \"))\n",
    "mx.print_matrix(b.T)\n",
    "display(Math(\"x^T = \"))\n",
    "mx.print_matrix(x.T)"
   ]
  },
  {
   "attachments": {},
   "cell_type": "markdown",
   "metadata": {},
   "source": [
    "Run the comparison to original values for function\n",
    "$$ f(x) = a_0 + a_1 * x$$"
   ]
  },
  {
   "cell_type": "code",
   "execution_count": 3,
   "metadata": {},
   "outputs": [
    {
     "name": "stdout",
     "output_type": "stream",
     "text": [
      "f( -5.0 ) =  [2.]  vs  [8.72727273]\n",
      "f( -4.0 ) =  [7.]  vs  [8.90909091]\n",
      "f( -3.0 ) =  [9.]  vs  [9.09090909]\n",
      "f( -2.0 ) =  [12.]  vs  [9.27272727]\n",
      "f( -1.0 ) =  [13.]  vs  [9.45454545]\n",
      "f( 0.0 ) =  [14.]  vs  [9.63636364]\n",
      "f( 1.0 ) =  [14.]  vs  [9.81818182]\n",
      "f( 2.0 ) =  [13.]  vs  [10.]\n",
      "f( 3.0 ) =  [10.]  vs  [10.18181818]\n",
      "f( 4.0 ) =  [8.]  vs  [10.36363636]\n",
      "f( 5.0 ) =  [4.]  vs  [10.54545455]\n"
     ]
    }
   ],
   "source": [
    "samplesLen = len(b)\n",
    "coefsNum = len(x)\n",
    "y = []\n",
    "for i in range(samplesLen):\n",
    "    y.append(A[i][0]*x[0] + A[i][1]*x[1])\n",
    "    print(\"f(\", A[i][1] , \") = \", b[i], \" vs \", y[i])"
   ]
  },
  {
   "cell_type": "code",
   "execution_count": 4,
   "metadata": {},
   "outputs": [
    {
     "name": "stdout",
     "output_type": "stream",
     "text": [
      "########## Zadanie 4 B ##########\n"
     ]
    },
    {
     "data": {
      "text/latex": [
       "$\\displaystyle A^T =$"
      ],
      "text/plain": [
       "<IPython.core.display.Math object>"
      ]
     },
     "metadata": {},
     "output_type": "display_data"
    },
    {
     "data": {
      "text/latex": [
       "$\\displaystyle \\begin{bmatrix}1.0&1.0&1.0&1.0&1.0&1.0&1.0&1.0&1.0&1.0&1.0\\\\-5.0&-4.0&-3.0&-2.0&-1.0&0.0&1.0&2.0&3.0&4.0&5.0\\\\25.0&16.0&9.0&4.0&1.0&0.0&1.0&4.0&9.0&16.0&25.0\\\\\\end{bmatrix}$"
      ],
      "text/plain": [
       "<IPython.core.display.Math object>"
      ]
     },
     "metadata": {},
     "output_type": "display_data"
    },
    {
     "data": {
      "text/latex": [
       "$\\displaystyle b^T = $"
      ],
      "text/plain": [
       "<IPython.core.display.Math object>"
      ]
     },
     "metadata": {},
     "output_type": "display_data"
    },
    {
     "data": {
      "text/latex": [
       "$\\displaystyle \\begin{bmatrix}2.0&7.0&9.0&12.0&13.0&14.0&14.0&13.0&10.0&8.0&4.0\\\\\\end{bmatrix}$"
      ],
      "text/plain": [
       "<IPython.core.display.Math object>"
      ]
     },
     "metadata": {},
     "output_type": "display_data"
    },
    {
     "data": {
      "text/latex": [
       "$\\displaystyle x^T = $"
      ],
      "text/plain": [
       "<IPython.core.display.Math object>"
      ]
     },
     "metadata": {},
     "output_type": "display_data"
    },
    {
     "data": {
      "text/latex": [
       "$\\displaystyle \\begin{bmatrix}13.97202797202797&0.18181818181818177&-0.43356643356643354\\\\\\end{bmatrix}$"
      ],
      "text/plain": [
       "<IPython.core.display.Math object>"
      ]
     },
     "metadata": {},
     "output_type": "display_data"
    }
   ],
   "source": [
    "print(\"########## Zadanie 4 B ##########\")\n",
    "\n",
    "A = np.loadtxt(os.path.join(zadania, \"zad4B.txt\"), float, delimiter=\" \", ndmin=2)\n",
    "b = np.loadtxt(os.path.join(zadania, \"zad4_b.txt\"), float, delimiter=\" \", ndmin=2)\n",
    "\n",
    "x, _, _, _ = sci.linalg.lstsq(A, b)\n",
    "display(Math(\"A^T =\"))\n",
    "mx.print_matrix(A.T)\n",
    "display(Math(\"b^T = \"))\n",
    "mx.print_matrix(b.T)\n",
    "display(Math(\"x^T = \"))\n",
    "mx.print_matrix(x.T)"
   ]
  },
  {
   "attachments": {},
   "cell_type": "markdown",
   "metadata": {},
   "source": [
    "Run the comparison to original values for function\n",
    "$$ f(x) = a_0 + a_1 * x + a_2 * x$$"
   ]
  },
  {
   "cell_type": "code",
   "execution_count": 5,
   "metadata": {},
   "outputs": [
    {
     "name": "stdout",
     "output_type": "stream",
     "text": [
      "f( -5.0 ) =  [2.]  vs  [2.22377622]\n",
      "f( -4.0 ) =  [7.]  vs  [6.30769231]\n",
      "f( -3.0 ) =  [9.]  vs  [9.52447552]\n",
      "f( -2.0 ) =  [12.]  vs  [11.87412587]\n",
      "f( -1.0 ) =  [13.]  vs  [13.35664336]\n",
      "f( 0.0 ) =  [14.]  vs  [13.97202797]\n",
      "f( 1.0 ) =  [14.]  vs  [13.72027972]\n",
      "f( 2.0 ) =  [13.]  vs  [12.6013986]\n",
      "f( 3.0 ) =  [10.]  vs  [10.61538462]\n",
      "f( 4.0 ) =  [8.]  vs  [7.76223776]\n",
      "f( 5.0 ) =  [4.]  vs  [4.04195804]\n"
     ]
    }
   ],
   "source": [
    "samplesLen = len(b)\n",
    "coefsNum = len(x)\n",
    "y = []\n",
    "for i in range(samplesLen):\n",
    "    y.append(A[i][0]*x[0] + A[i][1]*x[1] + A[i][2]*x[2])\n",
    "    print(\"f(\", A[i][1] , \") = \", b[i], \" vs \", y[i])"
   ]
  }
 ],
 "metadata": {
  "kernelspec": {
   "display_name": "numerical_venv",
   "language": "python",
   "name": "python3"
  },
  "language_info": {
   "codemirror_mode": {
    "name": "ipython",
    "version": 3
   },
   "file_extension": ".py",
   "mimetype": "text/x-python",
   "name": "python",
   "nbconvert_exporter": "python",
   "pygments_lexer": "ipython3",
   "version": "3.10.6"
  },
  "orig_nbformat": 4
 },
 "nbformat": 4,
 "nbformat_minor": 2
}
