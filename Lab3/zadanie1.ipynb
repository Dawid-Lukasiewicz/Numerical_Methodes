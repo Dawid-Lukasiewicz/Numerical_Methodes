{
 "cells": [
  {
   "cell_type": "code",
   "execution_count": 1,
   "id": "990d9b03",
   "metadata": {},
   "outputs": [],
   "source": [
    "import sys\n",
    "sys.path.append(\"../\")\n",
    "from IPython.display import display, Math\n",
    "import os\n",
    "import numpy as np\n",
    "import scipy as sci\n",
    "import matrix_handler as mx\n",
    "\n",
    "zadania = \"zadania\""
   ]
  },
  {
   "cell_type": "code",
   "execution_count": 2,
   "id": "d35eec43",
   "metadata": {},
   "outputs": [
    {
     "name": "stdout",
     "output_type": "stream",
     "text": [
      "############# Zadanie 1 A #############\n"
     ]
    },
    {
     "data": {
      "text/latex": [
       "$\\displaystyle A^T =$"
      ],
      "text/plain": [
       "<IPython.core.display.Math object>"
      ]
     },
     "metadata": {},
     "output_type": "display_data"
    },
    {
     "data": {
      "text/latex": [
       "$\\displaystyle \\begin{bmatrix}3.0&1.0&2.0\\\\-1.0&2.0&1.0\\\\\\end{bmatrix}$"
      ],
      "text/plain": [
       "<IPython.core.display.Math object>"
      ]
     },
     "metadata": {},
     "output_type": "display_data"
    },
    {
     "data": {
      "text/latex": [
       "$\\displaystyle b^T = $"
      ],
      "text/plain": [
       "<IPython.core.display.Math object>"
      ]
     },
     "metadata": {},
     "output_type": "display_data"
    },
    {
     "data": {
      "text/latex": [
       "$\\displaystyle \\begin{bmatrix}4.0&0.0&1.0\\\\\\end{bmatrix}$"
      ],
      "text/plain": [
       "<IPython.core.display.Math object>"
      ]
     },
     "metadata": {},
     "output_type": "display_data"
    },
    {
     "data": {
      "text/latex": [
       "$\\displaystyle x^T = $"
      ],
      "text/plain": [
       "<IPython.core.display.Math object>"
      ]
     },
     "metadata": {},
     "output_type": "display_data"
    },
    {
     "data": {
      "text/latex": [
       "$\\displaystyle \\begin{bmatrix}1.0481927710843384&-0.6746987951807234\\\\\\end{bmatrix}$"
      ],
      "text/plain": [
       "<IPython.core.display.Math object>"
      ]
     },
     "metadata": {},
     "output_type": "display_data"
    }
   ],
   "source": [
    "print(\"############# Zadanie 1 A #############\")\n",
    "\n",
    "A = np.loadtxt(os.path.join(zadania, \"zad1A.txt\") , float, delimiter=\" \", ndmin=2)\n",
    "b = np.loadtxt(os.path.join(zadania, \"zad1A_b.txt\"), float, delimiter=\" \", ndmin=2)\n",
    "\n",
    "x, _, _, _ = sci.linalg.lstsq(A, b)\n",
    "display(Math(\"A^T =\"))\n",
    "mx.print_matrix(A.T)\n",
    "display(Math(\"b^T = \"))\n",
    "mx.print_matrix(b.T)\n",
    "display(Math(\"x^T = \"))\n",
    "mx.print_matrix(x.T)"
   ]
  },
  {
   "cell_type": "code",
   "execution_count": 3,
   "id": "15eb2aa1",
   "metadata": {},
   "outputs": [
    {
     "name": "stdout",
     "output_type": "stream",
     "text": [
      "########## Zadanie 1 B ##########\n"
     ]
    },
    {
     "data": {
      "text/latex": [
       "$\\displaystyle A^T =$"
      ],
      "text/plain": [
       "<IPython.core.display.Math object>"
      ]
     },
     "metadata": {},
     "output_type": "display_data"
    },
    {
     "data": {
      "text/latex": [
       "$\\displaystyle \\begin{bmatrix}3.0&2.0&2.0&3.0\\\\1.0&3.0&-1.0&-3.0\\\\1.0&-1.0&1.0&3.0\\\\\\end{bmatrix}$"
      ],
      "text/plain": [
       "<IPython.core.display.Math object>"
      ]
     },
     "metadata": {},
     "output_type": "display_data"
    },
    {
     "data": {
      "text/latex": [
       "$\\displaystyle b^T = $"
      ],
      "text/plain": [
       "<IPython.core.display.Math object>"
      ]
     },
     "metadata": {},
     "output_type": "display_data"
    },
    {
     "data": {
      "text/latex": [
       "$\\displaystyle \\begin{bmatrix}6.0&1.0&0.0&8.0\\\\\\end{bmatrix}$"
      ],
      "text/plain": [
       "<IPython.core.display.Math object>"
      ]
     },
     "metadata": {},
     "output_type": "display_data"
    },
    {
     "data": {
      "text/latex": [
       "$\\displaystyle x^T = $"
      ],
      "text/plain": [
       "<IPython.core.display.Math object>"
      ]
     },
     "metadata": {},
     "output_type": "display_data"
    },
    {
     "data": {
      "text/latex": [
       "$\\displaystyle \\begin{bmatrix}-1.6666666666666652&3.8333333333333366&7.916666666666664\\\\\\end{bmatrix}$"
      ],
      "text/plain": [
       "<IPython.core.display.Math object>"
      ]
     },
     "metadata": {},
     "output_type": "display_data"
    }
   ],
   "source": [
    "print(\"########## Zadanie 1 B ##########\")\n",
    "\n",
    "A = np.loadtxt(os.path.join(zadania, \"zad1B.txt\"), float, delimiter=\" \", ndmin=2)\n",
    "b = np.loadtxt(os.path.join(zadania, \"zad1B_b.txt\"), float, delimiter=\" \", ndmin=2)\n",
    "\n",
    "x, _, _, _ = sci.linalg.lstsq(A, b)\n",
    "display(Math(\"A^T =\"))\n",
    "mx.print_matrix(A.T)\n",
    "display(Math(\"b^T = \"))\n",
    "mx.print_matrix(b.T)\n",
    "display(Math(\"x^T = \"))\n",
    "mx.print_matrix(x.T)"
   ]
  }
 ],
 "metadata": {
  "kernelspec": {
   "display_name": "Python 3 (ipykernel)",
   "language": "python",
   "name": "python3"
  },
  "language_info": {
   "codemirror_mode": {
    "name": "ipython",
    "version": 3
   },
   "file_extension": ".py",
   "mimetype": "text/x-python",
   "name": "python",
   "nbconvert_exporter": "python",
   "pygments_lexer": "ipython3",
   "version": "3.10.6"
  }
 },
 "nbformat": 4,
 "nbformat_minor": 5
}
