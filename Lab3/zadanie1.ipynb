{
 "cells": [
  {
   "cell_type": "code",
   "execution_count": null,
   "id": "990d9b03",
   "metadata": {},
   "outputs": [],
   "source": [
    "import os\n",
    "import numpy as np\n",
    "import scipy as sci\n",
    "\n",
    "zadania = \"zadania\""
   ]
  },
  {
   "cell_type": "code",
   "execution_count": null,
   "id": "d35eec43",
   "metadata": {},
   "outputs": [],
   "source": [
    "print(\"############# Zadanie 1 A #############\")\n",
    "\n",
    "A = np.loadtxt(os.path.join(zadania, \"zad1A.txt\") , float, delimiter=\" \", ndmin=2)\n",
    "b = np.loadtxt(os.path.join(zadania, \"zad1A_b.txt\"), float, delimiter=\" \", ndmin=2)\n",
    "\n",
    "print(A)\n",
    "print(b)\n",
    "\n",
    "x, _, _, _ = sci.linalg.lstsq(A, b)\n",
    "print(x)"
   ]
  },
  {
   "cell_type": "code",
   "execution_count": null,
   "id": "15eb2aa1",
   "metadata": {},
   "outputs": [],
   "source": [
    "print(\"########## Zadanie 1 B ##########\")\n",
    "\n",
    "A = np.loadtxt(os.path.join(zadania, \"zad1B.txt\"), float, delimiter=\" \", ndmin=2)\n",
    "b = np.loadtxt(os.path.join(zadania, \"zad1B_b.txt\"), float, delimiter=\" \", ndmin=2)\n",
    "\n",
    "print(A)\n",
    "print(b)\n",
    "\n",
    "x, _, _, _ = sci.linalg.lstsq(A, b)\n",
    "print(x)"
   ]
  }
 ],
 "metadata": {
  "kernelspec": {
   "display_name": "Python 3 (ipykernel)",
   "language": "python",
   "name": "python3"
  },
  "language_info": {
   "codemirror_mode": {
    "name": "ipython",
    "version": 3
   },
   "file_extension": ".py",
   "mimetype": "text/x-python",
   "name": "python",
   "nbconvert_exporter": "python",
   "pygments_lexer": "ipython3",
   "version": "3.10.6"
  }
 },
 "nbformat": 4,
 "nbformat_minor": 5
}
