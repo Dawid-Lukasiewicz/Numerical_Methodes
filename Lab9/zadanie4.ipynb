{
 "cells": [
  {
   "cell_type": "code",
   "execution_count": null,
   "metadata": {},
   "outputs": [],
   "source": [
    "import sys\n",
    "sys.path.append(\"../\")\n",
    "from IPython.display import display, Math\n",
    "import os\n",
    "\n",
    "import scipy as sci\n",
    "from scipy.optimize import minimize\n",
    "\n",
    "import numpy as np\n",
    "from numpy.linalg import inv\n",
    "\n",
    "import matplotlib.pyplot as plt\n",
    "\n",
    "import matrix_handler as mx\n",
    "\n",
    "zadania = \"zadania\""
   ]
  },
  {
   "cell_type": "code",
   "execution_count": null,
   "metadata": {},
   "outputs": [],
   "source": [
    "def f(x):\n",
    "    return 0.5*x[0]**2 + x[1]**2 - x[0]*x[1] - 2*x[0] - 6*x[1]\n",
    "\n",
    "def constraint(x):\n",
    "    return [-x[0] - x[1] + 2,       #   Contraint: x0 + x1 <= 2\n",
    "            x[0] - 2*x[1] + 2,      #   Contraint: -x0 + 2x1 <= 2\n",
    "            -2*x[0] - x[1] + 2,]    #   Contraint: 2x0 + x1 <= 2\n",
    "\n",
    "constraints = {'type': 'ineq', 'fun': constraint}\n",
    "\n",
    "bound = [[0, None], [0, None]]\n",
    "\n",
    "x0 = np.array([0, 0])\n",
    "solution = minimize(f, x0, method='SLSQP', bounds=bound, constraints=constraints)\n",
    "\n",
    "print(\"x* = \", solution.x)\n",
    "print(\"f(x*) = \", solution.fun)"
   ]
  },
  {
   "cell_type": "code",
   "execution_count": null,
   "metadata": {},
   "outputs": [],
   "source": [
    "def constraint_plot1(x):\n",
    "    return -x + 2 # x0 + x1 <= 2\n",
    "def constraint_plot2(x):\n",
    "    return 0.5*x + 1 # -x0 + 2x1 <= 2\n",
    "def constraint_plot3(x):\n",
    "    return -2*x + 2 # 2x0 + 2x1 <= 2\n",
    "\n",
    "points = 100\n",
    "\n",
    "x = np.linspace(-0.5, 2.5, points)\n",
    "y = np.linspace(-0.5, 2.5, points)\n",
    "X, Y = np.meshgrid(x, y)\n",
    "Z = f([X, Y])\n",
    "\n",
    "contour = plt.contour(X, Y, Z, levels=10)\n",
    "plt.colorbar(contour, label='Objective functions value')\n",
    "\n",
    "Y = constraint_plot1(x)\n",
    "plt.plot(x, Y, c='red', label=\"x0 + x1 <= 2\")\n",
    "Y = constraint_plot2(x)\n",
    "plt.plot(x, Y, c='orange', label=\"-x0 + 2x1 <= 2\")\n",
    "Y = constraint_plot3(x)\n",
    "plt.plot(x, Y, c='coral', label=\"2x0 + x1 <= 2\")\n",
    "Y = np.zeros_like(x)\n",
    "plt.plot(x, Y, c='magenta', label=\"x1 >= 0\")\n",
    "X = np.zeros_like(y)\n",
    "plt.plot(X, y, c='slategrey', label=\"x0 >= 0\")\n",
    "\n",
    "plt.plot(solution.x[0], solution.x[1] , 'ko', label=\"x*\")\n",
    "\n",
    "plt.clabel(contour, inline=True, fontsize=6)\n",
    "plt.xlabel('X0')\n",
    "plt.ylabel('X1')\n",
    "plt.title('Set of possible solutions')\n",
    "plt.axis('equal')\n",
    "plt.grid(True)\n",
    "plt.xlim(-0.5, 2.5)\n",
    "plt.ylim(-0.5, 2)\n",
    "plt.legend(loc='lower right')\n",
    "plt.show()"
   ]
  }
 ],
 "metadata": {
  "kernelspec": {
   "display_name": "venv_num",
   "language": "python",
   "name": "python3"
  },
  "language_info": {
   "codemirror_mode": {
    "name": "ipython",
    "version": 3
   },
   "file_extension": ".py",
   "mimetype": "text/x-python",
   "name": "python",
   "nbconvert_exporter": "python",
   "pygments_lexer": "ipython3",
   "version": "3.11.3"
  },
  "orig_nbformat": 4
 },
 "nbformat": 4,
 "nbformat_minor": 2
}
