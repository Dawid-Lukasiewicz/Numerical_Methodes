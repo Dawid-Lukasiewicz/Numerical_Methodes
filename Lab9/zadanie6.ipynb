{
 "cells": [
  {
   "cell_type": "code",
   "execution_count": null,
   "metadata": {},
   "outputs": [],
   "source": [
    "import sys\n",
    "sys.path.append(\"../\")\n",
    "from IPython.display import display, Math\n",
    "import os\n",
    "\n",
    "import scipy as sci\n",
    "from scipy.optimize import minimize\n",
    "\n",
    "import numpy as np\n",
    "from numpy.linalg import inv\n",
    "\n",
    "import matplotlib.pyplot as plt\n",
    "\n",
    "import matrix_handler as mx\n",
    "\n",
    "zadania = \"zadania\""
   ]
  },
  {
   "cell_type": "code",
   "execution_count": null,
   "metadata": {},
   "outputs": [],
   "source": [
    "def f(x):\n",
    "    return x[0]**2 - x[1]**2\n",
    "\n",
    "def constraint(x):\n",
    "    return [x[0] + 2*x[1] - 2,\n",
    "            5*x[0] - 4*x[1] + 10]\n",
    "\n",
    "constraints = {'type': 'ineq', 'fun': constraint}\n",
    "\n",
    "bound = [[None, 0], [0, None]]\n",
    "\n",
    "x0 = np.array([0, 0])\n",
    "solution = minimize(f, x0, method='SLSQP', bounds=bound, constraints=constraints)\n",
    "\n",
    "print(\"x* = \", solution.x)\n",
    "print(\"f(x*) = \", solution.fun)"
   ]
  },
  {
   "cell_type": "code",
   "execution_count": null,
   "metadata": {},
   "outputs": [],
   "source": [
    "def constraint_plot1(x):\n",
    "    return -0.5*x + 1\n",
    "def constraint_plot2(x):\n",
    "    return 5*x/4 + 2.5\n",
    "\n",
    "points = 100\n",
    "\n",
    "x = np.linspace(-1, 1, points)\n",
    "y = np.linspace(-0.3, 3.5, points)\n",
    "X, Y = np.meshgrid(x, y)\n",
    "Z = f([X, Y])\n",
    "\n",
    "contour = plt.contour(X, Y, Z, levels=10)\n",
    "plt.colorbar(contour, label='Objective functions value')\n",
    "\n",
    "Y = constraint_plot1(x)\n",
    "plt.plot(x, Y, c='red', label=\"x0 + 2x1 >= 2\")\n",
    "Y = constraint_plot2(x)\n",
    "plt.plot(x, Y, c='orange', label=\"-5x0 + 4x1 <= 10\")\n",
    "Y = np.zeros_like(x)\n",
    "plt.plot(x, Y, c='magenta', label=\"x0 <= 0\")\n",
    "X = np.zeros_like(y)\n",
    "plt.plot(X, y, c='slategrey', label=\"x1 >= 0\")\n",
    "\n",
    "plt.plot(solution.x[0], solution.x[1] , 'ko', label=\"x*\")\n",
    "\n",
    "plt.clabel(contour, inline=True, fontsize=6)\n",
    "plt.xlabel('X0')\n",
    "plt.ylabel('X1')\n",
    "plt.title('Set of possible solutions')\n",
    "plt.grid(True)\n",
    "plt.xlim(-1, 1)\n",
    "plt.ylim(-0.3, 3)\n",
    "plt.legend(loc='lower right')\n",
    "plt.show()"
   ]
  }
 ],
 "metadata": {
  "kernelspec": {
   "display_name": "venv_num",
   "language": "python",
   "name": "python3"
  },
  "language_info": {
   "codemirror_mode": {
    "name": "ipython",
    "version": 3
   },
   "file_extension": ".py",
   "mimetype": "text/x-python",
   "name": "python",
   "nbconvert_exporter": "python",
   "pygments_lexer": "ipython3",
   "version": "3.11.3"
  },
  "orig_nbformat": 4
 },
 "nbformat": 4,
 "nbformat_minor": 2
}
