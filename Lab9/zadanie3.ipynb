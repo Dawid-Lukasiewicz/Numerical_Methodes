{
 "cells": [
  {
   "cell_type": "code",
   "execution_count": null,
   "metadata": {},
   "outputs": [],
   "source": [
    "import sys\n",
    "sys.path.append(\"../\")\n",
    "from IPython.display import display, Math\n",
    "import os\n",
    "\n",
    "import scipy as sci\n",
    "from scipy.optimize import minimize\n",
    "\n",
    "import numpy as np\n",
    "from numpy.linalg import inv\n",
    "\n",
    "import matplotlib.pyplot as plt\n",
    "\n",
    "import matrix_handler as mx\n",
    "\n",
    "zadania = \"zadania\""
   ]
  },
  {
   "cell_type": "code",
   "execution_count": null,
   "metadata": {},
   "outputs": [],
   "source": [
    "def f(x):\n",
    "    return x[0]**2 + x[1]**2\n",
    "\n",
    "def constraint(x):\n",
    "#   Contraint: x0 + x1 >= 1\n",
    "    return x[0] + x[1] - 1\n",
    "\n",
    "constraints = {'type': 'ineq', 'fun': constraint}\n",
    "\n",
    "x0 = np.array([0, 0])\n",
    "solution = minimize(f, x0, method='SLSQP', constraints=constraints)\n",
    "\n",
    "print(\"x* = \", solution.x)\n",
    "print(\"f(x*) = \", solution.fun)"
   ]
  },
  {
   "cell_type": "code",
   "execution_count": null,
   "metadata": {},
   "outputs": [],
   "source": [
    "def constraint_plot(x):\n",
    "    return -x + 1\n",
    "\n",
    "points = 100\n",
    "\n",
    "x = np.linspace(-2.5, 2.5, points)\n",
    "y = np.linspace(-2.5, 2.5, points)\n",
    "X, Y = np.meshgrid(x, y)\n",
    "Z = f([X, Y])\n",
    "\n",
    "contour = plt.contour(X, Y, Z, levels=[0.1, 0.5, 1, 2, 3, 4, 5, 6, 7])\n",
    "plt.colorbar(contour, label='Objective functions value')\n",
    "\n",
    "Y = constraint_plot(x)\n",
    "plt.plot(x, Y, c='r', label=\"x[0] + x[1] >= 1\")\n",
    "\n",
    "plt.plot(solution.x[0], solution.x[1] , 'ko', label=\"x*\")\n",
    "\n",
    "plt.clabel(contour, inline=True, fontsize=6)\n",
    "plt.xlabel('X0')\n",
    "plt.ylabel('X1')\n",
    "plt.title('Set of possible solutions')\n",
    "plt.axis('equal')\n",
    "plt.grid(True)\n",
    "plt.xlim(-2.2, 2.2)\n",
    "plt.ylim(-2.2, 2.2)\n",
    "plt.legend()\n",
    "plt.show()"
   ]
  }
 ],
 "metadata": {
  "kernelspec": {
   "display_name": "venv_num",
   "language": "python",
   "name": "python3"
  },
  "language_info": {
   "codemirror_mode": {
    "name": "ipython",
    "version": 3
   },
   "file_extension": ".py",
   "mimetype": "text/x-python",
   "name": "python",
   "nbconvert_exporter": "python",
   "pygments_lexer": "ipython3",
   "version": "3.11.3"
  },
  "orig_nbformat": 4
 },
 "nbformat": 4,
 "nbformat_minor": 2
}
