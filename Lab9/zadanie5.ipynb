{
 "cells": [
  {
   "cell_type": "code",
   "execution_count": null,
   "metadata": {},
   "outputs": [],
   "source": [
    "import sys\n",
    "sys.path.append(\"../\")\n",
    "from IPython.display import display, Math\n",
    "import os\n",
    "\n",
    "import scipy as sci\n",
    "from scipy.optimize import minimize\n",
    "\n",
    "import numpy as np\n",
    "from numpy.linalg import inv\n",
    "\n",
    "import matplotlib.pyplot as plt\n",
    "\n",
    "import matrix_handler as mx\n",
    "\n",
    "zadania = \"zadania\""
   ]
  },
  {
   "cell_type": "code",
   "execution_count": null,
   "metadata": {},
   "outputs": [],
   "source": [
    "def f(x):\n",
    "    return x[0]**2 + x[1]**2 + x[2]**2\n",
    "\n",
    "def constraint(x):\n",
    "    return [x[0] + 2*x[1] - x[2] - 4,\n",
    "            x[0] - x[1] + x[2] + 2]\n",
    "\n",
    "constraints = {'type': 'eq', 'fun': constraint}\n",
    "\n",
    "x0 = np.array([0, 0, 0])\n",
    "solution = minimize(f, x0, method='SLSQP', constraints=constraints)\n",
    "\n",
    "print(\"x* = \", solution.x)\n",
    "print(\"f(x*) = \", solution.fun)"
   ]
  }
 ],
 "metadata": {
  "kernelspec": {
   "display_name": "venv_num",
   "language": "python",
   "name": "python3"
  },
  "language_info": {
   "codemirror_mode": {
    "name": "ipython",
    "version": 3
   },
   "file_extension": ".py",
   "mimetype": "text/x-python",
   "name": "python",
   "nbconvert_exporter": "python",
   "pygments_lexer": "ipython3",
   "version": "3.11.3"
  },
  "orig_nbformat": 4
 },
 "nbformat": 4,
 "nbformat_minor": 2
}
