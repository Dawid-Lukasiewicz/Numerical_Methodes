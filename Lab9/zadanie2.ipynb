{
 "cells": [
  {
   "cell_type": "code",
   "execution_count": null,
   "metadata": {},
   "outputs": [],
   "source": [
    "import sys\n",
    "sys.path.append(\"../\")\n",
    "from IPython.display import display, Math\n",
    "import os\n",
    "\n",
    "import scipy as sci\n",
    "from scipy.optimize import minimize\n",
    "\n",
    "import numpy as np\n",
    "from numpy.linalg import inv\n",
    "\n",
    "import matplotlib.pyplot as plt\n",
    "\n",
    "import matrix_handler as mx\n",
    "\n",
    "zadania = \"zadania\""
   ]
  },
  {
   "attachments": {},
   "cell_type": "markdown",
   "metadata": {},
   "source": [
    "Rozwiązanie z metodą Sequential Least Squares Programming"
   ]
  },
  {
   "cell_type": "code",
   "execution_count": null,
   "metadata": {},
   "outputs": [],
   "source": [
    "def f(x):\n",
    "    return x[0] + x[1]\n",
    "\n",
    "def constraint(x):\n",
    "#   Contraint: x0^2 + x1^2 <= 2\n",
    "    return [-x[0]**2 - x[1]**2 + 2]\n",
    "\n",
    "constraints = {'type': 'ineq', 'fun': constraint}\n",
    "\n",
    "# Constraint: x1 >= 0\n",
    "#              x0           x1\n",
    "bounds = [[None, None], [0, None]]\n",
    "\n",
    "x0 = np.array([0, 0])\n",
    "solution = minimize(f, x0, method='SLSQP', bounds=bounds, constraints=constraints)\n",
    "\n",
    "print(\"x* = \", solution.x)\n",
    "print(\"f(x*) = \", solution.fun)"
   ]
  },
  {
   "cell_type": "code",
   "execution_count": null,
   "metadata": {},
   "outputs": [],
   "source": [
    "center = [0, 0]\n",
    "radius = np.sqrt(2)\n",
    "points = 100\n",
    "\n",
    "x = np.linspace(-2.5, 2.5, points)\n",
    "y = np.linspace(-2.5, 2.5, points)\n",
    "X, Y = np.meshgrid(x, y)\n",
    "Z = f([X, Y])\n",
    "\n",
    "contour = plt.contour(X, Y, Z, levels=10)\n",
    "plt.colorbar(contour, label='Objective functions value')\n",
    "\n",
    "theta = np.linspace(0, 2*np.pi, points)\n",
    "x = center[0] + radius * np.cos(theta)\n",
    "y = center[1] + radius * np.sin(theta)\n",
    "plt.plot(x, y, c='r', label=\"Constraints\")\n",
    "\n",
    "plt.plot(solution.x[0], solution.x[1] , 'ko', label='x*')\n",
    "\n",
    "plt.xlabel('X')\n",
    "plt.ylabel('Y')\n",
    "plt.title('Set of possible solutions')\n",
    "plt.axis('equal')  # Set equal aspect ratio\n",
    "plt.grid(True)\n",
    "plt.legend()\n",
    "plt.show()"
   ]
  }
 ],
 "metadata": {
  "kernelspec": {
   "display_name": "venv_num",
   "language": "python",
   "name": "python3"
  },
  "language_info": {
   "codemirror_mode": {
    "name": "ipython",
    "version": 3
   },
   "file_extension": ".py",
   "mimetype": "text/x-python",
   "name": "python",
   "nbconvert_exporter": "python",
   "pygments_lexer": "ipython3",
   "version": "3.11.3"
  },
  "orig_nbformat": 4
 },
 "nbformat": 4,
 "nbformat_minor": 2
}
