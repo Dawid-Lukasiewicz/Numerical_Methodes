{
 "cells": [
  {
   "cell_type": "code",
   "execution_count": null,
   "metadata": {},
   "outputs": [],
   "source": [
    "import sys\n",
    "sys.path.append(\"../\")\n",
    "from IPython.display import display, Math\n",
    "import os\n",
    "import scipy as sci\n",
    "import numpy as np\n",
    "import matrix_handler as mx\n",
    "from solvers import focuss_algorithm\n",
    "from solvers import create_random_Xn_signal\n",
    "from solvers import regularized_focuss_algorithm\n",
    "from solvers import regularized_mfocuss_algorithm\n",
    "\n",
    "zadania = \"zadania\""
   ]
  },
  {
   "cell_type": "code",
   "execution_count": null,
   "metadata": {},
   "outputs": [],
   "source": [
    "A = np.loadtxt(os.path.join(zadania, \"zad4_A.txt\"), float, delimiter=\" \", ndmin=2)\n",
    "b = np.loadtxt(os.path.join(zadania, \"zad4_b.txt\"), float, delimiter=\" \", ndmin=2)\n",
    "M, N = A.shape\n",
    "\n",
    "display(Math(\"A = \"))\n",
    "mx.print_matrix(A)\n",
    "\n",
    "display(Math(\"b = \"))\n",
    "mx.print_matrix(b)"
   ]
  },
  {
   "attachments": {},
   "cell_type": "markdown",
   "metadata": {},
   "source": [
    "**Algorytm FOCUSS**"
   ]
  },
  {
   "cell_type": "code",
   "execution_count": null,
   "metadata": {},
   "outputs": [],
   "source": [
    "X = create_random_Xn_signal(N, M)\n",
    "x, graphFP0 = regularized_focuss_algorithm(A, b, X, p=0)\n",
    "display(Math(\"Ax = \"))\n",
    "mx.print_matrix(A @ x)\n"
   ]
  },
  {
   "cell_type": "code",
   "execution_count": null,
   "metadata": {},
   "outputs": [],
   "source": [
    "x, graphFP1 = regularized_focuss_algorithm(A, b, X, p=1)\n",
    "display(Math(\"Ax = \"))\n",
    "mx.print_matrix(A @ x)"
   ]
  },
  {
   "attachments": {},
   "cell_type": "markdown",
   "metadata": {},
   "source": [
    "**Algorytm MFOCUSS**"
   ]
  },
  {
   "cell_type": "code",
   "execution_count": null,
   "metadata": {},
   "outputs": [],
   "source": [
    "X = create_random_Xn_signal(N, 20)\n",
    "x, graphMFP0 = regularized_mfocuss_algorithm(A, b, X, p=0)\n",
    "display(Math(\"Ax = \"))\n",
    "mx.print_matrix(A @ x)\n"
   ]
  },
  {
   "cell_type": "code",
   "execution_count": null,
   "metadata": {},
   "outputs": [],
   "source": [
    "x, graphMFP1 = regularized_mfocuss_algorithm(A, b, X, p=1)\n",
    "display(Math(\"Ax = \"))\n",
    "mx.print_matrix(A @ x)"
   ]
  },
  {
   "attachments": {},
   "cell_type": "markdown",
   "metadata": {},
   "source": [
    "**Porównanie błędu residualnego między algorytmem MFOCUSS i FOCUSS z podanym parametrem p=0 i p=1**"
   ]
  },
  {
   "cell_type": "code",
   "execution_count": null,
   "metadata": {},
   "outputs": [],
   "source": [
    "import matplotlib.pyplot as plt\n",
    "fig, ax = plt.subplots()\n",
    "\n",
    "plt.figure(1)\n",
    "ax.plot(graphFP0[0], graphFP0[1], marker=\"*\", linestyle=\"--\",  c=\"orange\", label=\"FOCUSS, p=0\")\n",
    "ax.plot(graphFP1[0], graphFP1[1], marker=\"o\", linestyle=\"--\", c=\"black\", label=\"FOCUSS, p=1\")\n",
    "ax.plot(graphMFP0[0], graphMFP0[1], marker=\"*\", linestyle=\"--\",  c=\"blue\", label=\"MFOCUSS, p=0\")\n",
    "ax.plot(graphMFP1[0], graphMFP1[1], marker=\"o\", linestyle=\"--\", c=\"red\", label=\"MFOCUSS, p=1\")\n",
    "\n",
    "plt.title(\"Porównanie jakości estymacji algorytmów FOCUSS i MFOCUSS\")\n",
    "plt.ylabel(\"błąd residualny\")\n",
    "plt.xlabel(\"iteracja k\")\n",
    "plt.legend(loc=\"upper right\")\n",
    "plt.show()\n"
   ]
  }
 ],
 "metadata": {
  "kernelspec": {
   "display_name": "venv_numerical",
   "language": "python",
   "name": "python3"
  },
  "language_info": {
   "codemirror_mode": {
    "name": "ipython",
    "version": 3
   },
   "file_extension": ".py",
   "mimetype": "text/x-python",
   "name": "python",
   "nbconvert_exporter": "python",
   "pygments_lexer": "ipython3",
   "version": "3.10.10"
  },
  "orig_nbformat": 4
 },
 "nbformat": 4,
 "nbformat_minor": 2
}
