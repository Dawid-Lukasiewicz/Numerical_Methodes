{
 "cells": [
  {
   "cell_type": "code",
   "execution_count": null,
   "metadata": {},
   "outputs": [],
   "source": [
    "import sys\n",
    "sys.path.append(\"../\")\n",
    "from IPython.display import display, Math\n",
    "import os\n",
    "import scipy as sci\n",
    "import numpy as np\n",
    "import matrix_handler as mx\n",
    "from solvers import focuss_algorithm\n",
    "from solvers import create_random_Xn_signal\n",
    "\n",
    "zadania = \"zadania\""
   ]
  },
  {
   "cell_type": "code",
   "execution_count": null,
   "metadata": {},
   "outputs": [],
   "source": [
    "A = np.loadtxt(os.path.join(zadania, \"zad4_A.txt\"), float, delimiter=\" \", ndmin=2)\n",
    "b = np.loadtxt(os.path.join(zadania, \"zad4_b.txt\"), float, delimiter=\" \", ndmin=2)\n",
    "\n",
    "M, N = A.shape\n",
    "X = create_random_Xn_signal(20, N)\n",
    "display(\"X = \")\n",
    "mx.print_matrix(X)\n",
    "\n",
    "xSolution = []\n",
    "for x in X:\n",
    "    x = focuss_algorithm(A, b, x)\n",
    "    display(Math(\"x^T =\"))\n",
    "    mx.print_matrix(x.T) "
   ]
  }
 ],
 "metadata": {
  "kernelspec": {
   "display_name": "venv_numerical",
   "language": "python",
   "name": "python3"
  },
  "language_info": {
   "codemirror_mode": {
    "name": "ipython",
    "version": 3
   },
   "file_extension": ".py",
   "mimetype": "text/x-python",
   "name": "python",
   "nbconvert_exporter": "python",
   "pygments_lexer": "ipython3",
   "version": "3.10.10"
  },
  "orig_nbformat": 4
 },
 "nbformat": 4,
 "nbformat_minor": 2
}
