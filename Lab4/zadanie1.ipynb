{
 "cells": [
  {
   "cell_type": "code",
   "execution_count": null,
   "metadata": {},
   "outputs": [],
   "source": [
    "import sys\n",
    "sys.path.append(\"../\")\n",
    "from IPython.display import display, Math\n",
    "import os\n",
    "import scipy as sci\n",
    "import numpy as np\n",
    "import matrix_handler as mx\n",
    "from solvers import focuss_algorithm\n",
    "\n",
    "zadania = \"zadania\""
   ]
  },
  {
   "cell_type": "code",
   "execution_count": null,
   "metadata": {},
   "outputs": [],
   "source": [
    "A1 = np.array([[0, 9, 1], [0, -6, 1], [0, 21, -1]])\n",
    "A2 = np.array([[0, 0, 1], [0, 0, 1], [0, 0, -1]])\n",
    "A3 = np.array([[-2, -3, 0], [2, -2, 0], [-6, 7, 0]])\n",
    "\n",
    "focusMatrix = [A1, A2, A3]\n",
    "\n",
    "x = np.array([1, 0, 2])\n",
    "\n",
    "focuss_algorithm(x)"
   ]
  }
 ],
 "metadata": {
  "kernelspec": {
   "display_name": "venv_numerical",
   "language": "python",
   "name": "python3"
  },
  "language_info": {
   "codemirror_mode": {
    "name": "ipython",
    "version": 3
   },
   "file_extension": ".py",
   "mimetype": "text/x-python",
   "name": "python",
   "nbconvert_exporter": "python",
   "pygments_lexer": "ipython3",
   "version": "3.10.10"
  },
  "orig_nbformat": 4
 },
 "nbformat": 4,
 "nbformat_minor": 2
}
