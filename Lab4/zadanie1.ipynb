{
 "cells": [
  {
   "cell_type": "code",
   "execution_count": null,
   "metadata": {},
   "outputs": [],
   "source": [
    "import sys\n",
    "sys.path.append(\"../\")\n",
    "from IPython.display import display, Math\n",
    "import os\n",
    "import scipy as sci\n",
    "import numpy as np\n",
    "import matrix_handler as mx\n",
    "from solvers import focuss_algorithm\n",
    "\n",
    "zadania = \"zadania\""
   ]
  },
  {
   "cell_type": "code",
   "execution_count": null,
   "metadata": {},
   "outputs": [],
   "source": [
    "A1 = np.array([[0, 9, 1], [0, -6, 1], [0, 21, -1]])\n",
    "x = np.array([0, 3, 1])\n",
    "b = np.array([10, -5, 20])\n",
    "\n",
    "x = focuss_algorithm(A1, x, b, p=1)\n",
    "display(Math(\"x^T = \"))\n",
    "mx.print_matrix(x)"
   ]
  },
  {
   "cell_type": "code",
   "execution_count": null,
   "metadata": {},
   "outputs": [],
   "source": [
    "A2 = np.array([[0, 0, 1], [0, 0, 1], [0, 0, -1]])\n",
    "x = np.array([0, 0, 1])\n",
    "b = np.array([1, 1, 1])\n",
    "\n",
    "x = focuss_algorithm(A2, x, b, p=1)\n",
    "display(Math(\"x^T = \"))\n",
    "mx.print_matrix(x)"
   ]
  },
  {
   "cell_type": "code",
   "execution_count": null,
   "metadata": {},
   "outputs": [],
   "source": [
    "A3 = np.array([[-2, -3, 0], [2, -2, 0], [-6, 7, 0]])\n",
    "x = np.array([-2, 1, 0])\n",
    "b = np.array([1, 0, 1])\n",
    "\n",
    "x = focuss_algorithm(A3, x, b, p=1, h=1)\n",
    "display(Math(\"x^T = \"))\n",
    "mx.print_matrix(x)"
   ]
  }
 ],
 "metadata": {
  "kernelspec": {
   "display_name": "venv_numerical",
   "language": "python",
   "name": "python3"
  },
  "language_info": {
   "codemirror_mode": {
    "name": "ipython",
    "version": 3
   },
   "file_extension": ".py",
   "mimetype": "text/x-python",
   "name": "python",
   "nbconvert_exporter": "python",
   "pygments_lexer": "ipython3",
   "version": "3.10.10"
  },
  "orig_nbformat": 4
 },
 "nbformat": 4,
 "nbformat_minor": 2
}
