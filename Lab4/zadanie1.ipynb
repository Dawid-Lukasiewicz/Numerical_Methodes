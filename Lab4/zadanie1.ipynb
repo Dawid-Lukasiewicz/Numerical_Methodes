{
 "cells": [
  {
   "cell_type": "code",
   "execution_count": null,
   "metadata": {},
   "outputs": [],
   "source": [
    "import sys\n",
    "sys.path.append(\"../\")\n",
    "from IPython.display import display, Math\n",
    "import os\n",
    "import scipy as sci\n",
    "import numpy as np\n",
    "import matrix_handler as mx\n",
    "from solvers import focuss_algorithm\n",
    "from solvers import regularized_focuss_algorithm\n",
    "\n",
    "zadania = \"zadania\""
   ]
  },
  {
   "attachments": {},
   "cell_type": "markdown",
   "metadata": {},
   "source": [
    "- Dla $x^T = [0, 3, 1]$"
   ]
  },
  {
   "attachments": {},
   "cell_type": "markdown",
   "metadata": {},
   "source": [
    "**Nieregularyzowany algorytm FOCUSS**"
   ]
  },
  {
   "cell_type": "code",
   "execution_count": null,
   "metadata": {},
   "outputs": [],
   "source": [
    "A1 = np.array([[0, 9, 1], [0, -6, 1], [0, 21, -1]])\n",
    "x = np.array([0, 3, 1])\n",
    "b = np.array([10, -5, 20])\n",
    "\n",
    "x = focuss_algorithm(A1, b, x, p=1)\n",
    "display(Math(\"x^T = \"))\n",
    "mx.print_matrix(x)\n",
    "\n",
    "display(Math(\"Ax = \"))\n",
    "mx.print_matrix(A1@x)"
   ]
  },
  {
   "attachments": {},
   "cell_type": "markdown",
   "metadata": {},
   "source": [
    "**Regularyzowany algorytm FOCUSS**"
   ]
  },
  {
   "cell_type": "code",
   "execution_count": null,
   "metadata": {},
   "outputs": [],
   "source": [
    "A1 = np.array([[0, 9, 1], [0, -6, 1], [0, 21, -1]])\n",
    "x = np.array([0, 3, 1])\n",
    "b = np.array([10, -5, 20])\n",
    "\n",
    "x, _ = regularized_focuss_algorithm(A1, b, x, p=1)\n",
    "display(Math(\"x^T = \"))\n",
    "mx.print_matrix(x)\n",
    "\n",
    "display(Math(\"Ax = \"))\n",
    "mx.print_matrix(A1@x)"
   ]
  },
  {
   "attachments": {},
   "cell_type": "markdown",
   "metadata": {},
   "source": [
    "- Dla $x^T = [0, 0, 1]$"
   ]
  },
  {
   "cell_type": "markdown",
   "metadata": {},
   "source": [
    "**Nieregularyzowany algorytm FOCUSS**"
   ]
  },
  {
   "cell_type": "code",
   "execution_count": null,
   "metadata": {},
   "outputs": [],
   "source": [
    "A2 = np.array([[0, 0, 1], [0, 0, 1], [0, 0, -1]])\n",
    "x = np.array([0, 0, 1])\n",
    "b = np.array([1, 1, 1])\n",
    "\n",
    "x = focuss_algorithm(A2, b, x, p=1)\n",
    "display(Math(\"x^T = \"))\n",
    "mx.print_matrix(x)\n",
    "\n",
    "display(Math(\"Ax = \"))\n",
    "mx.print_matrix(A2@x)"
   ]
  },
  {
   "cell_type": "markdown",
   "metadata": {},
   "source": [
    "**Regularyzowany algorytm FOCUSS**"
   ]
  },
  {
   "cell_type": "code",
   "execution_count": null,
   "metadata": {},
   "outputs": [],
   "source": [
    "A2 = np.array([[0, 0, 1], [0, 0, 1], [0, 0, -1]])\n",
    "x = np.array([0, 0, 1])\n",
    "b = np.array([1, 1, 1])\n",
    "\n",
    "x, _ = regularized_focuss_algorithm(A1, b, x, p=1)\n",
    "display(Math(\"x^T = \"))\n",
    "mx.print_matrix(x)\n",
    "\n",
    "display(Math(\"Ax = \"))\n",
    "mx.print_matrix(A2@x)"
   ]
  },
  {
   "attachments": {},
   "cell_type": "markdown",
   "metadata": {},
   "source": [
    "- Dla $x^T = [-2, 1, 0]$"
   ]
  },
  {
   "attachments": {},
   "cell_type": "markdown",
   "metadata": {},
   "source": [
    "**Nieregularyzowany algorytm FOCUSS**"
   ]
  },
  {
   "cell_type": "code",
   "execution_count": null,
   "metadata": {},
   "outputs": [],
   "source": [
    "A3 = np.array([[-2, -3, 0], [2, -2, 0], [-6, 7, 0]])\n",
    "x = np.array([-2, 1, 0])\n",
    "b = np.array([1, 0, 1])\n",
    "\n",
    "x = focuss_algorithm(A3, b, x, p=1, h=1)\n",
    "display(Math(\"x^T = \"))\n",
    "mx.print_matrix(x)\n",
    "\n",
    "display(Math(\"Ax = \"))\n",
    "mx.print_matrix(A3@x)"
   ]
  },
  {
   "cell_type": "markdown",
   "metadata": {},
   "source": [
    "**Regularyzowany algorytm FOCUSS**"
   ]
  },
  {
   "cell_type": "code",
   "execution_count": null,
   "metadata": {},
   "outputs": [],
   "source": [
    "A3 = np.array([[-2, -3, 0], [2, -2, 0], [-6, 7, 0]])\n",
    "x = np.array([-2, 1, 0])\n",
    "b = np.array([1, 0, 1])\n",
    "\n",
    "x, _ = regularized_focuss_algorithm(A1, b, x, p=1)\n",
    "display(Math(\"x^T = \"))\n",
    "mx.print_matrix(x)\n",
    "\n",
    "display(Math(\"Ax = \"))\n",
    "mx.print_matrix(A3@x)"
   ]
  }
 ],
 "metadata": {
  "kernelspec": {
   "display_name": "venv_numerical",
   "language": "python",
   "name": "python3"
  },
  "language_info": {
   "codemirror_mode": {
    "name": "ipython",
    "version": 3
   },
   "file_extension": ".py",
   "mimetype": "text/x-python",
   "name": "python",
   "nbconvert_exporter": "python",
   "pygments_lexer": "ipython3",
   "version": "3.10.10"
  },
  "orig_nbformat": 4
 },
 "nbformat": 4,
 "nbformat_minor": 2
}
