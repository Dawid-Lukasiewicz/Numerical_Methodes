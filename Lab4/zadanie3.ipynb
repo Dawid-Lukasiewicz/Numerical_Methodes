{
 "cells": [
  {
   "cell_type": "code",
   "execution_count": null,
   "metadata": {},
   "outputs": [],
   "source": [
    "import sys\n",
    "sys.path.append(\"../\")\n",
    "from IPython.display import display, Math\n",
    "import os\n",
    "import scipy as sci\n",
    "import numpy as np\n",
    "import matrix_handler as mx\n",
    "from solvers import create_random_Xn_signal\n",
    "from solvers import regularized_mfocuss_algorithm\n",
    "\n",
    "zadania = \"zadania\""
   ]
  },
  {
   "cell_type": "code",
   "execution_count": null,
   "metadata": {},
   "outputs": [],
   "source": [
    "A = np.loadtxt(os.path.join(zadania, \"zad4_A.txt\"), float, delimiter=\" \", ndmin=2)\n",
    "b = np.loadtxt(os.path.join(zadania, \"zad4_b.txt\"), float, delimiter=\" \", ndmin=2)\n",
    "\n",
    "M, N = A.shape\n",
    "X = create_random_Xn_signal(N, 3)\n",
    "display(\"X = \")\n",
    "mx.print_matrix(X)\n",
    "\n",
    "x = regularized_mfocuss_algorithm(A, b, X, p=2)\n",
    "display(\"x = \")\n",
    "mx.print_matrix(x)\n",
    "\n",
    "display(\"A @ x = \\n\")\n",
    "mx.print_matrix(A @ x)\n",
    "\n",
    "display(\"b = \\n\")\n",
    "mx.print_matrix(b)\n"
   ]
  }
 ],
 "metadata": {
  "kernelspec": {
   "display_name": "venv_numerical",
   "language": "python",
   "name": "python3"
  },
  "language_info": {
   "codemirror_mode": {
    "name": "ipython",
    "version": 3
   },
   "file_extension": ".py",
   "mimetype": "text/x-python",
   "name": "python",
   "nbconvert_exporter": "python",
   "pygments_lexer": "ipython3",
   "version": "3.10.10"
  },
  "orig_nbformat": 4
 },
 "nbformat": 4,
 "nbformat_minor": 2
}
