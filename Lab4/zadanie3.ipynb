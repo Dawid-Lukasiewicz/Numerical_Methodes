{
 "cells": [
  {
   "cell_type": "code",
   "execution_count": 1,
   "metadata": {},
   "outputs": [],
   "source": [
    "import sys\n",
    "sys.path.append(\"../\")\n",
    "from IPython.display import display, Math\n",
    "import os\n",
    "import scipy as sci\n",
    "import numpy as np\n",
    "import matrix_handler as mx\n",
    "from solvers import create_mostly0_signal_X\n",
    "from solvers import create_random_Xn_signal\n",
    "from solvers import regularized_mfocuss_algorithm\n",
    "from solvers import regularized_focuss_algorithm\n",
    "\n",
    "zadania = \"zadania\""
   ]
  },
  {
   "cell_type": "code",
   "execution_count": 2,
   "metadata": {},
   "outputs": [
    {
     "data": {
      "text/plain": [
       "'A = '"
      ]
     },
     "metadata": {},
     "output_type": "display_data"
    },
    {
     "data": {
      "text/latex": [
       "$\\displaystyle \\begin{bmatrix}1.0&2.0&2.0&3.0&1.0\\\\0.0&4.0&4.0&6.0&2.0\\\\3.0&6.0&6.0&9.0&6.0\\\\1.0&2.0&4.0&5.0&3.0\\\\\\end{bmatrix}$"
      ],
      "text/plain": [
       "<IPython.core.display.Math object>"
      ]
     },
     "metadata": {},
     "output_type": "display_data"
    },
    {
     "data": {
      "text/plain": [
       "'B = '"
      ]
     },
     "metadata": {},
     "output_type": "display_data"
    },
    {
     "data": {
      "text/latex": [
       "$\\displaystyle \\begin{bmatrix}2\\\\5\\\\3\\\\3\\\\\\end{bmatrix}$"
      ],
      "text/plain": [
       "<IPython.core.display.Math object>"
      ]
     },
     "metadata": {},
     "output_type": "display_data"
    },
    {
     "data": {
      "text/plain": [
       "'x = '"
      ]
     },
     "metadata": {},
     "output_type": "display_data"
    },
    {
     "data": {
      "text/latex": [
       "$\\displaystyle \\begin{bmatrix}-0.6091233247264237&0.06393704660026811&0.5444485429730741&0.5764170662732082&-0.6062953399729496\\\\1.7435140784458383\\\\\\end{bmatrix}$"
      ],
      "text/plain": [
       "<IPython.core.display.Math object>"
      ]
     },
     "metadata": {},
     "output_type": "display_data"
    },
    {
     "data": {
      "text/plain": [
       "'A @ x ='"
      ]
     },
     "metadata": {},
     "output_type": "display_data"
    },
    {
     "ename": "ValueError",
     "evalue": "setting an array element with a sequence. The requested array has an inhomogeneous shape after 1 dimensions. The detected shape was (2,) + inhomogeneous part.",
     "output_type": "error",
     "traceback": [
      "\u001b[0;31m---------------------------------------------------------------------------\u001b[0m",
      "\u001b[0;31mValueError\u001b[0m                                Traceback (most recent call last)",
      "Cell \u001b[0;32mIn[2], line 18\u001b[0m\n\u001b[1;32m     15\u001b[0m mx\u001b[39m.\u001b[39mprint_matrix(x)\n\u001b[1;32m     17\u001b[0m display(\u001b[39m\"\u001b[39m\u001b[39mA @ x =\u001b[39m\u001b[39m\"\u001b[39m)\n\u001b[0;32m---> 18\u001b[0m mx\u001b[39m.\u001b[39mprint_matrix(A \u001b[39m@\u001b[39;49m x)\n\u001b[1;32m     20\u001b[0m x_n \u001b[39m=\u001b[39m create_random_Xn_signal(N, M)\n\u001b[1;32m     21\u001b[0m x \u001b[39m=\u001b[39m regularized_focuss_algorithm(A, B, x_n, p\u001b[39m=\u001b[39m\u001b[39m2\u001b[39m)\n",
      "\u001b[0;31mValueError\u001b[0m: setting an array element with a sequence. The requested array has an inhomogeneous shape after 1 dimensions. The detected shape was (2,) + inhomogeneous part."
     ]
    }
   ],
   "source": [
    "A = np.loadtxt(os.path.join(zadania, \"zad3_A.txt\"), float, delimiter=\" \", ndmin=2)\n",
    "display(\"A = \")\n",
    "mx.print_matrix(A)\n",
    "\n",
    "M, N = A.shape\n",
    "\n",
    "B = np.array([2, 5, 3, 3])\n",
    "display(\"B = \")\n",
    "mx.print_matrix(B)\n",
    "\n",
    "X = create_random_Xn_signal(N, 20)\n",
    "\n",
    "x, _ = regularized_mfocuss_algorithm(A, B, X, p=2)\n",
    "display(\"x = \")\n",
    "mx.print_matrix(x)\n",
    "\n",
    "display(\"A @ x =\")\n",
    "mx.print_matrix(A @ x)\n",
    "\n",
    "x_n = create_random_Xn_signal(N, M)\n",
    "x, _  = regularized_focuss_algorithm(A, B, x_n, p=2)\n",
    "display(\"x = \")\n",
    "mx.print_matrix(x)\n",
    "\n",
    "display(\"A @ x =\")\n",
    "mx.print_matrix(A @ x)"
   ]
  }
 ],
 "metadata": {
  "kernelspec": {
   "display_name": "venv_numerical",
   "language": "python",
   "name": "python3"
  },
  "language_info": {
   "codemirror_mode": {
    "name": "ipython",
    "version": 3
   },
   "file_extension": ".py",
   "mimetype": "text/x-python",
   "name": "python",
   "nbconvert_exporter": "python",
   "pygments_lexer": "ipython3",
   "version": "3.10.10"
  },
  "orig_nbformat": 4
 },
 "nbformat": 4,
 "nbformat_minor": 2
}
