{
 "cells": [
  {
   "cell_type": "code",
   "execution_count": null,
   "metadata": {},
   "outputs": [],
   "source": [
    "import sys\n",
    "sys.path.append(\"../\")\n",
    "from IPython.display import display, Math\n",
    "import os\n",
    "import scipy as sci\n",
    "import numpy as np\n",
    "import matrix_handler as mx\n",
    "from solvers import create_mostly0_signal_X\n",
    "from solvers import create_random_Xn_signal\n",
    "from solvers import regularized_mfocuss_algorithm\n",
    "from solvers import regularized_focuss_algorithm\n",
    "\n",
    "zadania = \"zadania\""
   ]
  },
  {
   "attachments": {},
   "cell_type": "markdown",
   "metadata": {},
   "source": [
    "Zaczytanie danych dla zadania 3. Zrezygnowano z projekcji wektora x na przestrzeń kolumnową macierzy A ze względu na brak poprawnych wyników. W zamian podano przykładowy wektor b."
   ]
  },
  {
   "cell_type": "code",
   "execution_count": null,
   "metadata": {},
   "outputs": [],
   "source": [
    "A = np.loadtxt(os.path.join(zadania, \"zad3_A.txt\"), float, delimiter=\" \", ndmin=2)\n",
    "display(Math(\"A =\"))\n",
    "mx.print_matrix(A)\n",
    "\n",
    "M, N = A.shape\n",
    "\n",
    "B = np.array([2, 5, 3, 3])\n",
    "display(Math(\"B =\"))\n",
    "mx.print_matrix(B)"
   ]
  },
  {
   "attachments": {},
   "cell_type": "markdown",
   "metadata": {},
   "source": [
    "**Algorytm MFOCUSS**. Wygenerowano N=5 sygnałów z liczbą próbek równą 20."
   ]
  },
  {
   "cell_type": "code",
   "execution_count": null,
   "metadata": {},
   "outputs": [],
   "source": [
    "X = create_random_Xn_signal(N, 20)\n",
    "\n",
    "xMFOCUSS, graphMFOCUSS = regularized_mfocuss_algorithm(A, B, X, p=1, h=1)\n",
    "display(Math(\"x =\"))\n",
    "mx.print_matrix(xMFOCUSS)\n",
    "\n",
    "display(Math(\"Ax =\"))\n",
    "mx.print_matrix(A @ xMFOCUSS)"
   ]
  },
  {
   "attachments": {},
   "cell_type": "markdown",
   "metadata": {},
   "source": [
    "**Algorytm FOCUSS**. Wygenerowano N=5 sygnałów o liczbie próbek M=4."
   ]
  },
  {
   "cell_type": "code",
   "execution_count": null,
   "metadata": {},
   "outputs": [],
   "source": [
    "xFOCUSS = create_random_Xn_signal(N, M)\n",
    "xFOCUSS, graphFOCUSS  = regularized_focuss_algorithm(A, B, xFOCUSS, p=1, h=1)\n",
    "display(Math(\"x = \"))\n",
    "mx.print_matrix(xFOCUSS)\n",
    "\n",
    "display(Math(\"Ax =\"))\n",
    "mx.print_matrix(A @ xFOCUSS)"
   ]
  },
  {
   "attachments": {},
   "cell_type": "markdown",
   "metadata": {},
   "source": [
    "**Porównanie błędu residualnego między algorytmem MFOCUSS i FOCUSS**"
   ]
  },
  {
   "cell_type": "code",
   "execution_count": null,
   "metadata": {},
   "outputs": [],
   "source": [
    "import matplotlib.pyplot as plt\n",
    "fig, ax = plt.subplots()\n",
    "\n",
    "ax.plot(graphMFOCUSS[0], graphMFOCUSS[1], marker=\"o\", linestyle=\"--\",  c=\"blue\", label=\"algorytm MFOCUSS, p=1\")\n",
    "ax.plot(graphFOCUSS[0], graphFOCUSS[1], marker=\"o\", linestyle=\"-\", c=\"red\", label=\"algorytm FOCUSS, p=1\", )\n",
    "\n",
    "ax.set(ylim=(0, 5), yticks=np.arange(0, 6, step=.5))\n",
    "ax.set(xlim=(0, 15), xticks=np.arange(0, 16, step=1))\n",
    "plt.title(\"Porównanie jakości estymacji algorytmów FOCUSS i MFOCUSS\")\n",
    "plt.ylabel(\"błąd residualny\")\n",
    "plt.xlabel(\"iteracja k\")\n",
    "plt.legend(loc=\"upper right\")\n",
    "plt.show()"
   ]
  },
  {
   "attachments": {},
   "cell_type": "markdown",
   "metadata": {},
   "source": [
    "Z tabeli możemy zauważyć, że o wiele lepsze wyniki osiąga algorytm MFOCUSS."
   ]
  }
 ],
 "metadata": {
  "kernelspec": {
   "display_name": "venv_numerical",
   "language": "python",
   "name": "python3"
  },
  "language_info": {
   "codemirror_mode": {
    "name": "ipython",
    "version": 3
   },
   "file_extension": ".py",
   "mimetype": "text/x-python",
   "name": "python",
   "nbconvert_exporter": "python",
   "pygments_lexer": "ipython3",
   "version": "3.10.10"
  },
  "orig_nbformat": 4
 },
 "nbformat": 4,
 "nbformat_minor": 2
}
