{
 "cells": [
  {
   "cell_type": "code",
   "execution_count": null,
   "metadata": {},
   "outputs": [],
   "source": [
    "import sys\n",
    "sys.path.append(\"../\")\n",
    "from IPython.display import display, Math\n",
    "import os\n",
    "import scipy as sci\n",
    "import numpy as np\n",
    "import matrix_handler as mx\n",
    "from solvers import focuss_algorithm\n",
    "from solvers import regularized_focuss_algorithm\n",
    "\n",
    "zadania = \"zadania\""
   ]
  },
  {
   "attachments": {},
   "cell_type": "markdown",
   "metadata": {},
   "source": [
    "**Nieregularyzowany algorytm FOCUSS**"
   ]
  },
  {
   "cell_type": "code",
   "execution_count": null,
   "metadata": {},
   "outputs": [],
   "source": [
    "A = np.loadtxt(os.path.join(zadania, \"zad2_A.txt\") , float, delimiter=\" \", ndmin=2)\n",
    "x = np.loadtxt(os.path.join(zadania, \"zad2_x.txt\"), float, delimiter=\" \", ndmin=2)\n",
    "\n",
    "display(Math(\"A =\"))\n",
    "mx.print_matrix(A)\n",
    "display(Math(\"x^T =\"))\n",
    "mx.print_matrix(x.T)\n",
    "\n",
    "# Projection of x onto A and getting vector b\n",
    "# P = A * (A.T * A)^(+) * x\n",
    "A_pinv = np.linalg.pinv(A.T @ A)\n",
    "b = A @ A_pinv @ x\n",
    "display(Math(\"b^T =\"))\n",
    "mx.print_matrix(b.T)\n",
    "\n",
    "x = focuss_algorithm(A, b, x)\n",
    "display(Math(\"x^T =\"))\n",
    "mx.print_matrix(x.T)"
   ]
  },
  {
   "attachments": {},
   "cell_type": "markdown",
   "metadata": {},
   "source": [
    "**Regularyzowany algorytm FOCUSS**"
   ]
  },
  {
   "cell_type": "code",
   "execution_count": null,
   "metadata": {},
   "outputs": [],
   "source": [
    "A = np.loadtxt(os.path.join(zadania, \"zad2_A.txt\") , float, delimiter=\" \", ndmin=2)\n",
    "x = np.loadtxt(os.path.join(zadania, \"zad2_x.txt\"), float, delimiter=\" \", ndmin=2)\n",
    "\n",
    "display(Math(\"A =\"))\n",
    "mx.print_matrix(A)\n",
    "display(Math(\"x^T =\"))\n",
    "mx.print_matrix(x.T)\n",
    "\n",
    "# Projection of x onto A and getting vector b\n",
    "# P = A * (A.T * A)^(+) * x\n",
    "A_pinv = np.linalg.pinv(A.T @ A)\n",
    "b = A @ A_pinv @ x\n",
    "display(Math(\"b^T =\"))\n",
    "mx.print_matrix(b.T)\n",
    "\n",
    "x = regularized_focuss_algorithm(A, b, x)\n",
    "display(Math(\"x^T =\"))\n",
    "mx.print_matrix(x.T)"
   ]
  },
  {
   "attachments": {},
   "cell_type": "markdown",
   "metadata": {},
   "source": [
    "**Po ustawieniu elementu $a_{21}=0$**"
   ]
  },
  {
   "cell_type": "markdown",
   "metadata": {},
   "source": [
    "**Nieregularyzowany algorytm FOCUSS**"
   ]
  },
  {
   "cell_type": "code",
   "execution_count": null,
   "metadata": {},
   "outputs": [],
   "source": [
    "A = np.loadtxt(os.path.join(zadania, \"zad2_A_2.txt\") , float, delimiter=\" \", ndmin=2)\n",
    "x = np.loadtxt(os.path.join(zadania, \"zad2_x.txt\"), float, delimiter=\" \", ndmin=2)\n",
    "\n",
    "display(Math(\"A =\"))\n",
    "mx.print_matrix(A)\n",
    "display(Math(\"x^T =\"))\n",
    "mx.print_matrix(x.T)\n",
    "\n",
    "# Projection of x onto A and getting vector b\n",
    "# P = A * (A.T * A)^(+) * x\n",
    "A_pinv = np.linalg.pinv(A.T @ A)\n",
    "b = A @ A_pinv @ x\n",
    "display(Math(\"b^T =\"))\n",
    "mx.print_matrix(b.T)\n",
    "\n",
    "x = focuss_algorithm(A, b, x)\n",
    "\n",
    "display(Math(\"x^T =\"))\n",
    "mx.print_matrix(x.T)"
   ]
  },
  {
   "cell_type": "markdown",
   "metadata": {},
   "source": [
    "**Regularyzowany algorytm FOCUSS**"
   ]
  },
  {
   "cell_type": "code",
   "execution_count": null,
   "metadata": {},
   "outputs": [],
   "source": [
    "A = np.loadtxt(os.path.join(zadania, \"zad2_A_2.txt\") , float, delimiter=\" \", ndmin=2)\n",
    "x = np.loadtxt(os.path.join(zadania, \"zad2_x.txt\"), float, delimiter=\" \", ndmin=2)\n",
    "\n",
    "display(Math(\"A =\"))\n",
    "mx.print_matrix(A)\n",
    "display(Math(\"x^T =\"))\n",
    "mx.print_matrix(x.T)\n",
    "\n",
    "# Projection of x onto A and getting vector b\n",
    "# P = A * (A.T * A)^(+) * x\n",
    "A_pinv = np.linalg.pinv(A.T @ A)\n",
    "b = A @ A_pinv @ x\n",
    "display(Math(\"b^T =\"))\n",
    "mx.print_matrix(b.T)\n",
    "\n",
    "x = regularized_focuss_algorithm(A, b, x)\n",
    "\n",
    "display(Math(\"x^T =\"))\n",
    "mx.print_matrix(x.T)"
   ]
  }
 ],
 "metadata": {
  "kernelspec": {
   "display_name": "venv_numerical",
   "language": "python",
   "name": "python3"
  },
  "language_info": {
   "codemirror_mode": {
    "name": "ipython",
    "version": 3
   },
   "file_extension": ".py",
   "mimetype": "text/x-python",
   "name": "python",
   "nbconvert_exporter": "python",
   "pygments_lexer": "ipython3",
   "version": "3.10.10"
  },
  "orig_nbformat": 4
 },
 "nbformat": 4,
 "nbformat_minor": 2
}
