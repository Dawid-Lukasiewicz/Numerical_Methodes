{
 "cells": [
  {
   "cell_type": "code",
   "execution_count": null,
   "metadata": {},
   "outputs": [],
   "source": [
    "import sys\n",
    "sys.path.append(\"../\")\n",
    "from IPython.display import display, Math\n",
    "import os\n",
    "import scipy as sci\n",
    "import numpy as np\n",
    "import matrix_handler as mx\n",
    "from solvers import focuss_algorithm\n",
    "\n",
    "zadania = \"zadania\""
   ]
  },
  {
   "cell_type": "code",
   "execution_count": null,
   "metadata": {},
   "outputs": [],
   "source": [
    "A = np.loadtxt(os.path.join(zadania, \"zad2_A.txt\") , float, delimiter=\" \", ndmin=2)\n",
    "x = np.loadtxt(os.path.join(zadania, \"zad2_x.txt\"), float, delimiter=\" \", ndmin=2)\n",
    "\n",
    "display(Math(\"A =\"))\n",
    "mx.print_matrix(A)\n",
    "display(Math(\"x^T =\"))\n",
    "mx.print_matrix(x.T)\n",
    "\n",
    "# b = A @ np.linalg.pinv(A.T @ A) @ A.T @ x\n",
    "A_pinv = np.linalg.pinv(A.T @ A)\n",
    "b = A @ A_pinv @ x\n",
    "display(Math(\"b^T =\"))\n",
    "mx.print_matrix(b.T)\n",
    "\n",
    "x = focuss_algorithm(A, x, b)\n",
    "\n",
    "display(Math(\"x^T =\"))\n",
    "mx.print_matrix(x.T)"
   ]
  }
 ],
 "metadata": {
  "kernelspec": {
   "display_name": "venv_numerical",
   "language": "python",
   "name": "python3"
  },
  "language_info": {
   "codemirror_mode": {
    "name": "ipython",
    "version": 3
   },
   "file_extension": ".py",
   "mimetype": "text/x-python",
   "name": "python",
   "nbconvert_exporter": "python",
   "pygments_lexer": "ipython3",
   "version": "3.10.10"
  },
  "orig_nbformat": 4
 },
 "nbformat": 4,
 "nbformat_minor": 2
}
