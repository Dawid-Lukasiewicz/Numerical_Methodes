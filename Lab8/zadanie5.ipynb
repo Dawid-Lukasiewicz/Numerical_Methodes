{
 "cells": [
  {
   "cell_type": "code",
   "execution_count": null,
   "metadata": {},
   "outputs": [],
   "source": [
    "import sys\n",
    "sys.path.append(\"../\")\n",
    "from IPython.display import display, Math\n",
    "import os\n",
    "\n",
    "import scipy as sci\n",
    "from scipy.optimize import minimize\n",
    "from scipy.optimize import curve_fit\n",
    "\n",
    "import numpy as np\n",
    "from numpy.linalg import inv\n",
    "\n",
    "import matplotlib.pyplot as plt\n",
    "\n",
    "import matrix_handler as mx\n",
    "\n",
    "zadania = \"zadania\""
   ]
  },
  {
   "cell_type": "code",
   "execution_count": null,
   "metadata": {},
   "outputs": [],
   "source": [
    "\"\"\"Plot the damping against distance\"\"\"\n",
    "\n",
    "def damping(d, c):\n",
    "    return 128.3 + 32.5 * np.log10(d) + c\n",
    "\n",
    "plt.figure(figsize=(10, 10))\n",
    "plt.title(\"Wykres tłumienia od odległości dla różnych zakłóceń\")\n",
    "plt.xlabel(\"odległość d [km]\")\n",
    "plt.ylabel(\"Tłumienie L [dB]\")\n",
    "plt.grid(True)\n",
    "\n",
    "sigma = [.5, 1, 2]\n",
    "D = np.linspace(0.1, 10, 100)\n",
    "c1 = 3\n",
    "L_array = np.zeros([len(sigma), len(D)])\n",
    "i = 0\n",
    "for s in sigma:\n",
    "    L = []\n",
    "    j = 0\n",
    "    for d in D:\n",
    "        c2 = np.random.normal(0, s)\n",
    "        L.append(damping(d, c1+c2))\n",
    "        L_array[i][j] = L[j]\n",
    "        j += 1\n",
    "    i += 1\n",
    "    plt.plot(D, L, label=fr\"sigma={s}\")\n",
    "\n",
    "plt.legend()\n",
    "plt.show()"
   ]
  },
  {
   "cell_type": "code",
   "execution_count": null,
   "metadata": {},
   "outputs": [],
   "source": [
    "\"\"\"Fit the models to data\"\"\"\n",
    "\"\"\"Logarithmic model\"\"\"\n",
    "def log_model(x, a, b):\n",
    "    return a + b*np.exp(x)\n",
    "\n",
    "params1, _ = curve_fit(log_model, D, L_array[0])\n",
    "\n",
    "print(\"Model logarytmiczny:\")\n",
    "print(\"alpha = \", params1[0], \", beta = \", params1[1])\n",
    "\n",
    "\"\"\"Square model\"\"\"\n",
    "def square_model(x, a, b, y):\n",
    "    return a + b*x + y*(x**2)\n",
    "\n",
    "params2, _ = curve_fit(square_model, D, L_array[0])\n",
    "\n",
    "print(\"Model kwadratowy:\")\n",
    "print(\"alpha = \", params2[0], \", beta = \", params2[1], \", gamma = \", params2[2])\n",
    "\n",
    "\"\"\"Third-root model\"\"\"\n",
    "def third_model(x, a, b, y, ó):\n",
    "    return a + b*x + y*(x**2) +ó*(d**3)\n",
    "\n",
    "params3, _ = curve_fit(third_model, D, L_array[0])\n",
    "\n",
    "print(\"Model kwadratowy:\")\n",
    "print(\"alpha = \", params3[0], \", beta = \", params3[1], \", gamma = \", params3[2], \", phi = \", params3[3])\n",
    "\n",
    "\"\"\"Add model graphs\"\"\""
   ]
  }
 ],
 "metadata": {
  "kernelspec": {
   "display_name": "venv_num",
   "language": "python",
   "name": "python3"
  },
  "language_info": {
   "codemirror_mode": {
    "name": "ipython",
    "version": 3
   },
   "file_extension": ".py",
   "mimetype": "text/x-python",
   "name": "python",
   "nbconvert_exporter": "python",
   "pygments_lexer": "ipython3",
   "version": "3.11.3"
  },
  "orig_nbformat": 4
 },
 "nbformat": 4,
 "nbformat_minor": 2
}
