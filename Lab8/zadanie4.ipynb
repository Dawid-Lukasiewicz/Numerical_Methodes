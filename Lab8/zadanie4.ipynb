{
 "cells": [
  {
   "cell_type": "code",
   "execution_count": null,
   "metadata": {},
   "outputs": [],
   "source": [
    "import sys\n",
    "sys.path.append(\"../\")\n",
    "from IPython.display import display, Math\n",
    "import os\n",
    "\n",
    "import scipy as sci\n",
    "from scipy.optimize import minimize\n",
    "\n",
    "import numpy as np\n",
    "from numpy.linalg import inv\n",
    "\n",
    "import matplotlib.pyplot as plt\n",
    "\n",
    "import matrix_handler as mx\n",
    "from solvers_lab8 import Newton_Gauss\n",
    "from solvers_lab8 import Damped_Newton_Gauss\n",
    "\n",
    "zadania = \"zadania\""
   ]
  },
  {
   "cell_type": "code",
   "execution_count": null,
   "metadata": {},
   "outputs": [],
   "source": [
    "def F(x):\n",
    "    k = np.arange(1, 11, 1)\n",
    "    return np.array(2 + 2*k - np.exp(k*x[0]) - np.exp(k*x[1]))\n",
    "\n",
    "def f(x):\n",
    "    k = np.arange(1, 11, 1)\n",
    "    return sum( (2 + 2*k - np.exp(k*x[0]) - np.exp(k*x[1]))**2 )\n",
    "\n",
    "def df(x):\n",
    "    k = np.arange(1, 11, 1)\n",
    "    return np.array([sum(-2*k*np.exp(k*x[0])*(-np.exp(k*x[0]) - np.exp(k*x[1]) + 2*(k+1))),\n",
    "                     sum(-2*k*np.exp(k*x[1])*(-np.exp(k*x[1]) - np.exp(k*x[0]) + 2*(k+1)))])\n",
    "\n",
    "def hessian(x):\n",
    "    k = np.arange(1, 11, 1)\n",
    "    return np.array([[sum(2*k**2 * np.exp(k*x[0] * ( 2*np.exp(k*x[0]) + np.exp(k*x[1]) -2*(k+1) ))),    sum(2*k**2*np.exp(k*(x[0]+x[1])))],\n",
    "                     [sum(2*k**2*np.exp(k*x[1])*(np.exp(k*x[0]) + 2*np.exp(k*x[1]) - 2*(k+1))),         sum(2*k**2*np.exp(k*(x[0]+x[1])))] ])"
   ]
  },
  {
   "cell_type": "code",
   "execution_count": null,
   "metadata": {},
   "outputs": [],
   "source": [
    "x0 = [0.3, 0.4]\n",
    "x, i = Newton_Gauss(df, hessian, x0)\n",
    "print(\"Guess = \", x0)\n",
    "print(\"Solution = \", x)\n",
    "print(\"Iteration = \", i)\n",
    "print(\"Value = \", f(x))"
   ]
  },
  {
   "cell_type": "code",
   "execution_count": null,
   "metadata": {},
   "outputs": [],
   "source": [
    "x0 = [0.3, 0.4]\n",
    "x, i = Damped_Newton_Gauss(df, hessian, x0)\n",
    "print(\"Guess = \", x0)\n",
    "print(\"Solution = \", x)\n",
    "print(\"Iteration = \", i)\n",
    "print(\"Value = \", f(x))"
   ]
  },
  {
   "cell_type": "code",
   "execution_count": null,
   "metadata": {},
   "outputs": [],
   "source": [
    "steps = 100\n",
    "rangeFrom = 0\n",
    "rangeTo = 2.1\n",
    "\n",
    "x = np.linspace(0.1, 0.355, steps)\n",
    "y = np.linspace(0.1, 0.355, steps)\n",
    "X, Y = np.meshgrid(x, y)\n",
    "\n",
    "Z = np.zeros_like(X)\n",
    "for i in range(len(x)):\n",
    "    for j in range(len(y)):\n",
    "        Z[i, j] = f([X[i, j], Y[i, j]])\n",
    "\n",
    "plt.figure(figsize=(10, 10))\n",
    "contour = plt.contour(X, Y, Z, levels=[125, 137, 165, 300, 600, 900, 1400, 2100, 3000],\n",
    "                      cmap='viridis')\n",
    "plt.colorbar(contour, label='Function Value')\n",
    "plt.xlabel('x1')\n",
    "plt.ylabel('x2')\n",
    "plt.title('Contour Plot least square objective function')\n",
    "plt.grid(True)\n",
    "\n",
    "# Display function values on contour lines\n",
    "plt.clabel(contour, inline=True, fontsize=6)\n",
    "\n",
    "plt.show()"
   ]
  }
 ],
 "metadata": {
  "kernelspec": {
   "display_name": "venv_num",
   "language": "python",
   "name": "python3"
  },
  "language_info": {
   "codemirror_mode": {
    "name": "ipython",
    "version": 3
   },
   "file_extension": ".py",
   "mimetype": "text/x-python",
   "name": "python",
   "nbconvert_exporter": "python",
   "pygments_lexer": "ipython3",
   "version": "3.11.3"
  },
  "orig_nbformat": 4
 },
 "nbformat": 4,
 "nbformat_minor": 2
}
