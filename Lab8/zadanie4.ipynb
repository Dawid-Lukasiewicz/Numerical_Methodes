{
 "cells": [
  {
   "cell_type": "code",
   "execution_count": null,
   "metadata": {},
   "outputs": [],
   "source": [
    "import sys\n",
    "sys.path.append(\"../\")\n",
    "from IPython.display import display, Math\n",
    "import os\n",
    "\n",
    "import scipy as sci\n",
    "from scipy.optimize import minimize\n",
    "\n",
    "import numpy as np\n",
    "from numpy.linalg import inv\n",
    "\n",
    "import matplotlib.pyplot as plt\n",
    "\n",
    "import matrix_handler as mx\n",
    "from solvers_lab8 import Newton_Gauss\n",
    "from solvers_lab8 import Damped_Newton_Gauss\n",
    "from solvers_lab8 import Trust_Region\n",
    "\n",
    "zadania = \"zadania\""
   ]
  },
  {
   "cell_type": "code",
   "execution_count": null,
   "metadata": {},
   "outputs": [],
   "source": [
    "def f(x):\n",
    "    k = np.arange(1, 11, 1)\n",
    "    return sum( (2 + 2*k - np.exp(k*x[0]) - np.exp(k*x[1]))**2 )"
   ]
  },
  {
   "cell_type": "code",
   "execution_count": null,
   "metadata": {},
   "outputs": [],
   "source": [
    "x0 = [0.3, 0.4]\n",
    "# x0 = [0, 0]\n",
    "x, i = Trust_Region(f, x0)\n",
    "print(\"Guess = \", x0)\n",
    "print(\"Solution = \", x)\n",
    "print(\"Iteration = \", i)"
   ]
  }
 ],
 "metadata": {
  "kernelspec": {
   "display_name": "venv_num",
   "language": "python",
   "name": "python3"
  },
  "language_info": {
   "codemirror_mode": {
    "name": "ipython",
    "version": 3
   },
   "file_extension": ".py",
   "mimetype": "text/x-python",
   "name": "python",
   "nbconvert_exporter": "python",
   "pygments_lexer": "ipython3",
   "version": "3.11.3"
  },
  "orig_nbformat": 4
 },
 "nbformat": 4,
 "nbformat_minor": 2
}
