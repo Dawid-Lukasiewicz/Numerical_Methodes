{
 "cells": [
  {
   "cell_type": "code",
   "execution_count": 1,
   "metadata": {},
   "outputs": [],
   "source": [
    "import sys\n",
    "sys.path.append(\"../\")\n",
    "from IPython.display import display, Math\n",
    "import os\n",
    "\n",
    "import scipy as sci\n",
    "from scipy.optimize import minimize\n",
    "\n",
    "import numpy as np\n",
    "from numpy.linalg import inv\n",
    "\n",
    "import matplotlib.pyplot as plt\n",
    "\n",
    "import matrix_handler as mx\n",
    "from solvers_lab8 import Newton_Gauss\n",
    "from solvers_lab8 import Damped_Newton_Gauss\n",
    "\n",
    "zadania = \"zadania\""
   ]
  },
  {
   "cell_type": "code",
   "execution_count": 2,
   "metadata": {},
   "outputs": [],
   "source": [
    "\"\"\"Task 2 system of nonlinear functions\"\"\"\n",
    "\n",
    "def f(x):\n",
    "    F1 = x[0]**3 + 3*x[0] + 3*x[0] - x[1]\n",
    "    F2 = x[0]**2 + 2*x[0] - x[1] + 1\n",
    "    return np.array([F1, F2])\n",
    "\n",
    "\"\"\"Jacobian of previous system of equations\"\"\"\n",
    "def jac(x):\n",
    "    J11 = 3*x[0]**2 + 3\n",
    "    J12 = -1\n",
    "    J21 = 2*x[0] + 2\n",
    "    J22 = -1\n",
    "    return np.array([[J11, J12], [J21, J22]])"
   ]
  },
  {
   "cell_type": "code",
   "execution_count": 3,
   "metadata": {},
   "outputs": [
    {
     "name": "stdout",
     "output_type": "stream",
     "text": [
      "Guess =  [21.0, 13.0]\n",
      "Solution =  [0.46362478 0.7188278 ]\n",
      "Iteration =  99\n"
     ]
    }
   ],
   "source": [
    "iter = 100\n",
    "\n",
    "# Initial guess\n",
    "x0 = [21.0, 13.0]\n",
    "x, i = Newton_Gauss(f, jac, x0, max_iter=iter)\n",
    "print(\"Guess = \", x0)\n",
    "print(\"Solution = \", x)\n",
    "print(\"Iteration = \", i)\n"
   ]
  },
  {
   "cell_type": "code",
   "execution_count": 4,
   "metadata": {},
   "outputs": [
    {
     "name": "stdout",
     "output_type": "stream",
     "text": [
      "Guess =  [21.0, 23.0]\n",
      "Solution =  [1.05014139 2.99334038]\n",
      "Iteration =  99\n"
     ]
    }
   ],
   "source": [
    "iter = 100\n",
    "damp = .01\n",
    "\n",
    "# Initial guess\n",
    "x0 = [21.0, 23.0]\n",
    "x, i = Damped_Newton_Gauss(f, jac, x0, max_iter=iter, damping_factor=damp)\n",
    "print(\"Guess = \", x0)\n",
    "print(\"Solution = \", x)\n",
    "print(\"Iteration = \", i)"
   ]
  }
 ],
 "metadata": {
  "kernelspec": {
   "display_name": "venv_num",
   "language": "python",
   "name": "python3"
  },
  "language_info": {
   "codemirror_mode": {
    "name": "ipython",
    "version": 3
   },
   "file_extension": ".py",
   "mimetype": "text/x-python",
   "name": "python",
   "nbconvert_exporter": "python",
   "pygments_lexer": "ipython3",
   "version": "3.11.3"
  },
  "orig_nbformat": 4
 },
 "nbformat": 4,
 "nbformat_minor": 2
}
