{
 "cells": [
  {
   "cell_type": "code",
   "execution_count": null,
   "metadata": {},
   "outputs": [],
   "source": [
    "import sys\n",
    "sys.path.append(\"../\")\n",
    "from IPython.display import display, Math\n",
    "import os\n",
    "\n",
    "import scipy as sci\n",
    "from scipy.optimize import minimize\n",
    "\n",
    "import numpy as np\n",
    "from numpy.linalg import inv\n",
    "\n",
    "import matplotlib.pyplot as plt\n",
    "\n",
    "import matrix_handler as mx\n",
    "from solvers_lab8 import Newton_Gauss\n",
    "from solvers_lab8 import Damped_Newton_Gauss\n",
    "\n",
    "zadania = \"zadania\""
   ]
  },
  {
   "cell_type": "code",
   "execution_count": null,
   "metadata": {},
   "outputs": [],
   "source": [
    "\"\"\"Task 2 system of nonlinear functions\"\"\"\n",
    "\n",
    "def f(x):\n",
    "    F1 = x[0]**3 + 3*x[0] + 3*x[0] - x[1]\n",
    "    F2 = x[0]**2 + 2*x[0] - x[1] + 1\n",
    "    return np.array([F1, F2])\n",
    "\n",
    "\"\"\"Jacobian of previous system of equations\"\"\"\n",
    "def jac(x):\n",
    "    J11 = 3*x[0]**2 + 3\n",
    "    J12 = -1\n",
    "    J21 = 2*x[0] + 2\n",
    "    J22 = -1\n",
    "    return np.array([[J11, J12], [J21, J22]])"
   ]
  },
  {
   "cell_type": "code",
   "execution_count": null,
   "metadata": {},
   "outputs": [],
   "source": [
    "iter = 500\n",
    "\n",
    "# Initial guess\n",
    "x0 = [1.0, 1.0]\n",
    "x, i = Newton_Gauss(f, jac, x0, max_iter=iter)\n",
    "print(\"Guess = \", x0)\n",
    "print(\"Solution = \", x)\n",
    "print(\"Iteration = \", i)\n"
   ]
  },
  {
   "cell_type": "code",
   "execution_count": null,
   "metadata": {},
   "outputs": [],
   "source": [
    "iter = 500\n",
    "damp = .01\n",
    "\n",
    "# Initial guess\n",
    "x0 = [1.0, 1.0]\n",
    "x, i = Damped_Newton_Gauss(f, jac, x0, max_iter=iter, damping_factor=damp)\n",
    "print(\"Guess = \", x0)\n",
    "print(\"Solution = \", x)\n",
    "print(\"Iteration = \", i)"
   ]
  },
  {
   "cell_type": "code",
   "execution_count": null,
   "metadata": {},
   "outputs": [],
   "source": [
    "\"\"\"\n",
    "Least squares objective functon\n",
    "\"\"\"\n",
    "def LS_f(x):\n",
    "    return 0.5*((x[0]**3-3*x[0]**2+3*x[0]-x[1]-3)**2 + (x[0]**2-2*x[0]-x[1])**2)\n",
    "\n",
    "steps = 500\n",
    "rangeFrom = 0\n",
    "rangeTo = 2.1\n",
    "\n",
    "x = np.linspace(0, 2.6, steps)\n",
    "y = np.linspace(-2, 1.5, steps)\n",
    "X, Y = np.meshgrid(x, y)\n",
    "Z = LS_f([X, Y])\n",
    "\n",
    "plt.figure(figsize=(10, 10))\n",
    "contour = plt.contour(X, Y, Z, levels=[-0,0.01, 0.1, 0.3, 0.5, 1, 2, 3, 4, 5, 6, 7, 8, 9, 10, 12],\n",
    "                      cmap='viridis')\n",
    "plt.colorbar(contour, label='Function Value')\n",
    "plt.xlabel('x')\n",
    "plt.ylabel('y')\n",
    "plt.title('Contour Plot of LS_f(x, y)')\n",
    "plt.grid(True)\n",
    "\n",
    "# Display function values on contour lines\n",
    "plt.clabel(contour, inline=True, fontsize=6)\n",
    "\n",
    "plt.show()"
   ]
  }
 ],
 "metadata": {
  "kernelspec": {
   "display_name": "venv_num",
   "language": "python",
   "name": "python3"
  },
  "language_info": {
   "codemirror_mode": {
    "name": "ipython",
    "version": 3
   },
   "file_extension": ".py",
   "mimetype": "text/x-python",
   "name": "python",
   "nbconvert_exporter": "python",
   "pygments_lexer": "ipython3",
   "version": "3.11.3"
  },
  "orig_nbformat": 4
 },
 "nbformat": 4,
 "nbformat_minor": 2
}
